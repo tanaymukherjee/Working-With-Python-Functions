{
  "nbformat": 4,
  "nbformat_minor": 0,
  "metadata": {
    "colab": {
      "name": "Working with functions.ipynb",
      "provenance": [],
      "collapsed_sections": [],
      "authorship_tag": "ABX9TyPv5eu/8neFIRCDbZcVX+qZ",
      "include_colab_link": true
    },
    "kernelspec": {
      "name": "python3",
      "display_name": "Python 3"
    }
  },
  "cells": [
    {
      "cell_type": "markdown",
      "metadata": {
        "id": "view-in-github",
        "colab_type": "text"
      },
      "source": [
        "<a href=\"https://colab.research.google.com/github/tanaymukherjee/Working-With-Python-Functions/blob/main/Working_with_functions.ipynb\" target=\"_parent\"><img src=\"https://colab.research.google.com/assets/colab-badge.svg\" alt=\"Open In Colab\"/></a>"
      ]
    },
    {
      "cell_type": "markdown",
      "metadata": {
        "id": "0FaHS6HSNCwi"
      },
      "source": [
        "# Working with functions"
      ]
    },
    {
      "cell_type": "markdown",
      "metadata": {
        "id": "iB4Byr15QSqG"
      },
      "source": [
        "----"
      ]
    },
    {
      "cell_type": "markdown",
      "metadata": {
        "id": "vn4tfpEENQu0"
      },
      "source": [
        "### 1. Calculates the date of n days from the given date"
      ]
    },
    {
      "cell_type": "markdown",
      "metadata": {
        "id": "iR2o-nggNVO4"
      },
      "source": [
        "- Use datetime.timedelta and the + operator to calculate the new datetime.datetime value after adding n days to d.\r\n",
        "- Omit the second argument, d, to use a default value of datetime.today()."
      ]
    },
    {
      "cell_type": "code",
      "metadata": {
        "id": "zrtkdaxCM-AK"
      },
      "source": [
        "from datetime import datetime, timedelta\r\n",
        "\r\n",
        "def add_days(n, d = datetime.today()):\r\n",
        "  return d + timedelta(n)"
      ],
      "execution_count": 1,
      "outputs": []
    },
    {
      "cell_type": "code",
      "metadata": {
        "colab": {
          "base_uri": "https://localhost:8080/"
        },
        "id": "bRo7V7zcNZsQ",
        "outputId": "7f0f61d0-c10b-4329-f1a7-6ccad83be203"
      },
      "source": [
        "from datetime import date\r\n",
        "\r\n",
        "add_days(5, date(2020, 10, 25))"
      ],
      "execution_count": 3,
      "outputs": [
        {
          "output_type": "execute_result",
          "data": {
            "text/plain": [
              "datetime.date(2020, 10, 30)"
            ]
          },
          "metadata": {
            "tags": []
          },
          "execution_count": 3
        }
      ]
    },
    {
      "cell_type": "code",
      "metadata": {
        "colab": {
          "base_uri": "https://localhost:8080/"
        },
        "id": "EkK6mLVmNbhE",
        "outputId": "aef135f3-0524-4a57-c2d1-881a3631c8c5"
      },
      "source": [
        "add_days(-5, date(2020, 10, 25))"
      ],
      "execution_count": 4,
      "outputs": [
        {
          "output_type": "execute_result",
          "data": {
            "text/plain": [
              "datetime.date(2020, 10, 20)"
            ]
          },
          "metadata": {
            "tags": []
          },
          "execution_count": 4
        }
      ]
    },
    {
      "cell_type": "markdown",
      "metadata": {
        "id": "o7obX_F0Nxq3"
      },
      "source": [
        "### 2. Calculates the date of n days ago from today"
      ]
    },
    {
      "cell_type": "markdown",
      "metadata": {
        "id": "dWCgnjZ0Nxnr"
      },
      "source": [
        "- Use datetime.date.today() to get the current day.\r\n",
        "- Use datetime.timedelta to subtract n days from today's date."
      ]
    },
    {
      "cell_type": "code",
      "metadata": {
        "id": "H2PATSSqNg5F"
      },
      "source": [
        "from datetime import timedelta, date\r\n",
        "\r\n",
        "def days_ago(n):\r\n",
        "  return date.today() - timedelta(n)"
      ],
      "execution_count": 5,
      "outputs": []
    },
    {
      "cell_type": "code",
      "metadata": {
        "colab": {
          "base_uri": "https://localhost:8080/"
        },
        "id": "JK3F9n3rN3I5",
        "outputId": "c9dfd10b-4cbe-49c6-d4a5-bd1c1fe699b9"
      },
      "source": [
        "days_ago(5) ## today's date - 12/24/2020"
      ],
      "execution_count": 6,
      "outputs": [
        {
          "output_type": "execute_result",
          "data": {
            "text/plain": [
              "datetime.date(2020, 12, 19)"
            ]
          },
          "metadata": {
            "tags": []
          },
          "execution_count": 6
        }
      ]
    },
    {
      "cell_type": "markdown",
      "metadata": {
        "id": "aeMyV_mWOWlA"
      },
      "source": [
        "### 3. Calculates the date of n days from today"
      ]
    },
    {
      "cell_type": "markdown",
      "metadata": {
        "id": "9hVNVtjXOWdJ"
      },
      "source": [
        "- Use datetime.date.today() to get the current day.\r\n",
        "- Use datetime.timedelta to add n days from today's date."
      ]
    },
    {
      "cell_type": "code",
      "metadata": {
        "id": "pH0WMQ_KOWuX"
      },
      "source": [
        "from datetime import timedelta, date\r\n",
        "\r\n",
        "def days_from_now(n):\r\n",
        "  return date.today() + timedelta(n)"
      ],
      "execution_count": 11,
      "outputs": []
    },
    {
      "cell_type": "code",
      "metadata": {
        "colab": {
          "base_uri": "https://localhost:8080/"
        },
        "id": "S5jpO0i-Oe46",
        "outputId": "0321fca7-658b-48d7-8898-19ffea32ecbf"
      },
      "source": [
        "days_from_now(5)"
      ],
      "execution_count": 12,
      "outputs": [
        {
          "output_type": "execute_result",
          "data": {
            "text/plain": [
              "datetime.date(2020, 12, 29)"
            ]
          },
          "metadata": {
            "tags": []
          },
          "execution_count": 12
        }
      ]
    },
    {
      "cell_type": "markdown",
      "metadata": {
        "id": "XX2rKOa2N-6B"
      },
      "source": [
        "### 4. Calculates the day difference between two dates"
      ]
    },
    {
      "cell_type": "markdown",
      "metadata": {
        "id": "rWYI3ydAODag"
      },
      "source": [
        "- Subtract start from end and use datetime.timedelta.days to get the day difference."
      ]
    },
    {
      "cell_type": "code",
      "metadata": {
        "id": "1siuip5wN4D2"
      },
      "source": [
        "def days_diff(start, end):\r\n",
        "  return (end - start).days"
      ],
      "execution_count": 7,
      "outputs": []
    },
    {
      "cell_type": "code",
      "metadata": {
        "colab": {
          "base_uri": "https://localhost:8080/"
        },
        "id": "VI6EsLp1OGqi",
        "outputId": "e40faa0c-bbf8-43df-c074-df622421d439"
      },
      "source": [
        "from datetime import date\r\n",
        "\r\n",
        "days_diff(date(2020, 12, 24), date(2020, 12, 20))"
      ],
      "execution_count": 9,
      "outputs": [
        {
          "output_type": "execute_result",
          "data": {
            "text/plain": [
              "-4"
            ]
          },
          "metadata": {
            "tags": []
          },
          "execution_count": 9
        }
      ]
    },
    {
      "cell_type": "code",
      "metadata": {
        "colab": {
          "base_uri": "https://localhost:8080/"
        },
        "id": "VahIv0z9OLW2",
        "outputId": "13fe32f8-6116-4dce-eb2c-ac5f36c4923e"
      },
      "source": [
        "days_diff(date(2020, 12, 20), date(2020, 12, 22))"
      ],
      "execution_count": 10,
      "outputs": [
        {
          "output_type": "execute_result",
          "data": {
            "text/plain": [
              "2"
            ]
          },
          "metadata": {
            "tags": []
          },
          "execution_count": 10
        }
      ]
    },
    {
      "cell_type": "markdown",
      "metadata": {
        "id": "7QB3yPOUOjXm"
      },
      "source": [
        "### 5. Checks if the given date is a weekday"
      ]
    },
    {
      "cell_type": "markdown",
      "metadata": {
        "id": "MLQOCS-hOkgW"
      },
      "source": [
        "- Use datetime.datetime.weekday() to get the day of the week as an integer.\r\n",
        "- Check if the day of the week is less than or equal to 4.\r\n",
        "- Omit the second argument, d, to use a default value of datetime.today()."
      ]
    },
    {
      "cell_type": "code",
      "metadata": {
        "id": "t_M2aWu-OQEZ"
      },
      "source": [
        "from datetime import datetime\r\n",
        "\r\n",
        "def is_weekday(d = datetime.today()):\r\n",
        "  return d.weekday() <= 4 "
      ],
      "execution_count": 14,
      "outputs": []
    },
    {
      "cell_type": "code",
      "metadata": {
        "colab": {
          "base_uri": "https://localhost:8080/"
        },
        "id": "RbC8QGuoOoxu",
        "outputId": "c3337510-109c-46ea-c122-1fdbf429a0fa"
      },
      "source": [
        "from datetime import date\r\n",
        "\r\n",
        "is_weekday(date(2020, 12, 25))"
      ],
      "execution_count": 17,
      "outputs": [
        {
          "output_type": "execute_result",
          "data": {
            "text/plain": [
              "True"
            ]
          },
          "metadata": {
            "tags": []
          },
          "execution_count": 17
        }
      ]
    },
    {
      "cell_type": "code",
      "metadata": {
        "colab": {
          "base_uri": "https://localhost:8080/"
        },
        "id": "F_IzFlzwOsIY",
        "outputId": "930bdfe8-ef6d-4b26-ae62-3776dab440d9"
      },
      "source": [
        "is_weekday(date(2020, 12, 26))"
      ],
      "execution_count": 18,
      "outputs": [
        {
          "output_type": "execute_result",
          "data": {
            "text/plain": [
              "False"
            ]
          },
          "metadata": {
            "tags": []
          },
          "execution_count": 18
        }
      ]
    },
    {
      "cell_type": "markdown",
      "metadata": {
        "id": "toDFR3WPOzgf"
      },
      "source": [
        "### 6. Checks if the given date is a weekend"
      ]
    },
    {
      "cell_type": "markdown",
      "metadata": {
        "id": "Eny7iB0OO1ik"
      },
      "source": [
        "- Use datetime.datetime.weekday() to get the day of the week as an integer.\r\n",
        "- Check if the day of the week is greater than 4.\r\n",
        "- Omit the second argument, d, to use a default value of datetime.today()."
      ]
    },
    {
      "cell_type": "code",
      "metadata": {
        "id": "_eWbB2BeOtZY"
      },
      "source": [
        "from datetime import datetime\r\n",
        "\r\n",
        "def is_weekend(d = datetime.today()):\r\n",
        "  return d.weekday() > 4 "
      ],
      "execution_count": 19,
      "outputs": []
    },
    {
      "cell_type": "code",
      "metadata": {
        "colab": {
          "base_uri": "https://localhost:8080/"
        },
        "id": "LkpEmO8VO4PA",
        "outputId": "1a39e57e-af1f-48c1-cc77-5e1f253c73bd"
      },
      "source": [
        "from datetime import date\r\n",
        "\r\n",
        "is_weekend(date(2020, 12, 25))"
      ],
      "execution_count": 20,
      "outputs": [
        {
          "output_type": "execute_result",
          "data": {
            "text/plain": [
              "False"
            ]
          },
          "metadata": {
            "tags": []
          },
          "execution_count": 20
        }
      ]
    },
    {
      "cell_type": "code",
      "metadata": {
        "colab": {
          "base_uri": "https://localhost:8080/"
        },
        "id": "mwpzL51sO85I",
        "outputId": "f5d86eaf-6912-49b9-c15e-3af164067c80"
      },
      "source": [
        "is_weekend(date(2020, 10, 24))"
      ],
      "execution_count": 23,
      "outputs": [
        {
          "output_type": "execute_result",
          "data": {
            "text/plain": [
              "True"
            ]
          },
          "metadata": {
            "tags": []
          },
          "execution_count": 23
        }
      ]
    },
    {
      "cell_type": "markdown",
      "metadata": {
        "id": "CBxjcNwcPvFn"
      },
      "source": [
        "### 7. Checks if all elements in a list are equal."
      ]
    },
    {
      "cell_type": "markdown",
      "metadata": {
        "id": "LknCfqlEPwc4"
      },
      "source": [
        "- Use set() to eliminate duplicate elements and then use len() to check if length is 1."
      ]
    },
    {
      "cell_type": "code",
      "metadata": {
        "id": "7T3wKaubPx-q"
      },
      "source": [
        "def all_equal(lst):\r\n",
        "  return len(set(lst)) == 1"
      ],
      "execution_count": 24,
      "outputs": []
    },
    {
      "cell_type": "code",
      "metadata": {
        "colab": {
          "base_uri": "https://localhost:8080/"
        },
        "id": "YczoiOSMQINx",
        "outputId": "c54b87fa-b5dd-448f-ee99-475bd694d23c"
      },
      "source": [
        "all_equal([1, 2, 3, 4, 5, 6])"
      ],
      "execution_count": 25,
      "outputs": [
        {
          "output_type": "execute_result",
          "data": {
            "text/plain": [
              "False"
            ]
          },
          "metadata": {
            "tags": []
          },
          "execution_count": 25
        }
      ]
    },
    {
      "cell_type": "code",
      "metadata": {
        "colab": {
          "base_uri": "https://localhost:8080/"
        },
        "id": "uj4TPW-OQJpr",
        "outputId": "3ebebf2b-c487-467d-d69d-9618e6d002e4"
      },
      "source": [
        "all_equal([1, 1, 1, 1])"
      ],
      "execution_count": 26,
      "outputs": [
        {
          "output_type": "execute_result",
          "data": {
            "text/plain": [
              "True"
            ]
          },
          "metadata": {
            "tags": []
          },
          "execution_count": 26
        }
      ]
    },
    {
      "cell_type": "markdown",
      "metadata": {
        "id": "mO_yNnEPQLUh"
      },
      "source": [
        "### 8. Checks if all the values in a list are unique."
      ]
    },
    {
      "cell_type": "markdown",
      "metadata": {
        "id": "X7BiiumYQZLf"
      },
      "source": [
        "- Use set() on the given list to keep only unique occurences.\r\n",
        "- Use len() to compare the length of the unique values to the original list."
      ]
    },
    {
      "cell_type": "code",
      "metadata": {
        "id": "TGeTw1M2QKcI"
      },
      "source": [
        "def all_unique(lst):\r\n",
        "  return len(lst) == len(set(lst))"
      ],
      "execution_count": 27,
      "outputs": []
    },
    {
      "cell_type": "code",
      "metadata": {
        "id": "oU-LlFnIQceE"
      },
      "source": [
        "x = [1, 2, 3, 4, 5, 6]\r\n",
        "y = [1, 2, 2, 3, 4, 5]"
      ],
      "execution_count": 28,
      "outputs": []
    },
    {
      "cell_type": "code",
      "metadata": {
        "colab": {
          "base_uri": "https://localhost:8080/"
        },
        "id": "nVTC4F8oQdqK",
        "outputId": "4fb5c499-201a-4de3-afb5-fa3fcf3c3f50"
      },
      "source": [
        "print(all_unique(x))\r\n",
        "print(all_unique(y))"
      ],
      "execution_count": 29,
      "outputs": [
        {
          "output_type": "stream",
          "text": [
            "True\n",
            "False\n"
          ],
          "name": "stdout"
        }
      ]
    },
    {
      "cell_type": "code",
      "metadata": {
        "id": "casUrA2mQiup"
      },
      "source": [
        ""
      ],
      "execution_count": null,
      "outputs": []
    }
  ]
}