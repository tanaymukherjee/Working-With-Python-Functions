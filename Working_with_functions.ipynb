{
  "nbformat": 4,
  "nbformat_minor": 0,
  "metadata": {
    "colab": {
      "name": "Working with functions.ipynb",
      "provenance": [],
      "collapsed_sections": [],
      "authorship_tag": "ABX9TyOemuMZSf7EcJFqRx+iSBBq",
      "include_colab_link": true
    },
    "kernelspec": {
      "name": "python3",
      "display_name": "Python 3"
    }
  },
  "cells": [
    {
      "cell_type": "markdown",
      "metadata": {
        "id": "view-in-github",
        "colab_type": "text"
      },
      "source": [
        "<a href=\"https://colab.research.google.com/github/tanaymukherjee/Working-With-Python-Functions/blob/main/Working_with_functions.ipynb\" target=\"_parent\"><img src=\"https://colab.research.google.com/assets/colab-badge.svg\" alt=\"Open In Colab\"/></a>"
      ]
    },
    {
      "cell_type": "markdown",
      "metadata": {
        "id": "0FaHS6HSNCwi"
      },
      "source": [
        "# Working with functions"
      ]
    },
    {
      "cell_type": "markdown",
      "metadata": {
        "id": "iB4Byr15QSqG"
      },
      "source": [
        "----"
      ]
    },
    {
      "cell_type": "markdown",
      "metadata": {
        "id": "vn4tfpEENQu0"
      },
      "source": [
        "### 1. Calculates the date of n days from the given date"
      ]
    },
    {
      "cell_type": "markdown",
      "metadata": {
        "id": "iR2o-nggNVO4"
      },
      "source": [
        "- Use datetime.timedelta and the + operator to calculate the new datetime.datetime value after adding n days to d.\r\n",
        "- Omit the second argument, d, to use a default value of datetime.today()."
      ]
    },
    {
      "cell_type": "code",
      "metadata": {
        "id": "zrtkdaxCM-AK"
      },
      "source": [
        "from datetime import datetime, timedelta\r\n",
        "\r\n",
        "def add_days(n, d = datetime.today()):\r\n",
        "  return d + timedelta(n)"
      ],
      "execution_count": 34,
      "outputs": []
    },
    {
      "cell_type": "code",
      "metadata": {
        "colab": {
          "base_uri": "https://localhost:8080/"
        },
        "id": "bRo7V7zcNZsQ",
        "outputId": "45bd5e36-938b-4978-c8f8-e8c84f9127df"
      },
      "source": [
        "from datetime import date\r\n",
        "\r\n",
        "add_days(5, date(2020, 10, 25))"
      ],
      "execution_count": 35,
      "outputs": [
        {
          "output_type": "execute_result",
          "data": {
            "text/plain": [
              "datetime.date(2020, 10, 30)"
            ]
          },
          "metadata": {
            "tags": []
          },
          "execution_count": 35
        }
      ]
    },
    {
      "cell_type": "code",
      "metadata": {
        "colab": {
          "base_uri": "https://localhost:8080/"
        },
        "id": "EkK6mLVmNbhE",
        "outputId": "c6d63cb5-1ade-4c3e-a3be-4d4df29be5f4"
      },
      "source": [
        "add_days(-5, date(2020, 10, 25))"
      ],
      "execution_count": 36,
      "outputs": [
        {
          "output_type": "execute_result",
          "data": {
            "text/plain": [
              "datetime.date(2020, 10, 20)"
            ]
          },
          "metadata": {
            "tags": []
          },
          "execution_count": 36
        }
      ]
    },
    {
      "cell_type": "markdown",
      "metadata": {
        "id": "o7obX_F0Nxq3"
      },
      "source": [
        "### 2. Calculates the date of n days ago from today"
      ]
    },
    {
      "cell_type": "markdown",
      "metadata": {
        "id": "dWCgnjZ0Nxnr"
      },
      "source": [
        "- Use datetime.date.today() to get the current day.\r\n",
        "- Use datetime.timedelta to subtract n days from today's date."
      ]
    },
    {
      "cell_type": "code",
      "metadata": {
        "id": "H2PATSSqNg5F"
      },
      "source": [
        "from datetime import timedelta, date\r\n",
        "\r\n",
        "def days_ago(n):\r\n",
        "  return date.today() - timedelta(n)"
      ],
      "execution_count": 37,
      "outputs": []
    },
    {
      "cell_type": "code",
      "metadata": {
        "colab": {
          "base_uri": "https://localhost:8080/"
        },
        "id": "JK3F9n3rN3I5",
        "outputId": "85bbd9f6-11ae-4653-a30f-b7d49e2d07e0"
      },
      "source": [
        "days_ago(5) ## today's date - 12/24/2020"
      ],
      "execution_count": 38,
      "outputs": [
        {
          "output_type": "execute_result",
          "data": {
            "text/plain": [
              "datetime.date(2020, 12, 20)"
            ]
          },
          "metadata": {
            "tags": []
          },
          "execution_count": 38
        }
      ]
    },
    {
      "cell_type": "markdown",
      "metadata": {
        "id": "aeMyV_mWOWlA"
      },
      "source": [
        "### 3. Calculates the date of n days from today"
      ]
    },
    {
      "cell_type": "markdown",
      "metadata": {
        "id": "9hVNVtjXOWdJ"
      },
      "source": [
        "- Use datetime.date.today() to get the current day.\r\n",
        "- Use datetime.timedelta to add n days from today's date."
      ]
    },
    {
      "cell_type": "code",
      "metadata": {
        "id": "pH0WMQ_KOWuX"
      },
      "source": [
        "from datetime import timedelta, date\r\n",
        "\r\n",
        "def days_from_now(n):\r\n",
        "  return date.today() + timedelta(n)"
      ],
      "execution_count": 39,
      "outputs": []
    },
    {
      "cell_type": "code",
      "metadata": {
        "colab": {
          "base_uri": "https://localhost:8080/"
        },
        "id": "S5jpO0i-Oe46",
        "outputId": "58e6d8f3-612e-4596-a1e7-079420ac7b3c"
      },
      "source": [
        "days_from_now(5)"
      ],
      "execution_count": 40,
      "outputs": [
        {
          "output_type": "execute_result",
          "data": {
            "text/plain": [
              "datetime.date(2020, 12, 30)"
            ]
          },
          "metadata": {
            "tags": []
          },
          "execution_count": 40
        }
      ]
    },
    {
      "cell_type": "markdown",
      "metadata": {
        "id": "XX2rKOa2N-6B"
      },
      "source": [
        "### 4. Calculates the day difference between two dates"
      ]
    },
    {
      "cell_type": "markdown",
      "metadata": {
        "id": "rWYI3ydAODag"
      },
      "source": [
        "- Subtract start from end and use datetime.timedelta.days to get the day difference."
      ]
    },
    {
      "cell_type": "code",
      "metadata": {
        "id": "1siuip5wN4D2"
      },
      "source": [
        "def days_diff(start, end):\r\n",
        "  return (end - start).days"
      ],
      "execution_count": 41,
      "outputs": []
    },
    {
      "cell_type": "code",
      "metadata": {
        "colab": {
          "base_uri": "https://localhost:8080/"
        },
        "id": "VI6EsLp1OGqi",
        "outputId": "56471a5a-2d8e-4b4d-b246-ce7a0814d064"
      },
      "source": [
        "from datetime import date\r\n",
        "\r\n",
        "days_diff(date(2020, 12, 24), date(2020, 12, 20))"
      ],
      "execution_count": 42,
      "outputs": [
        {
          "output_type": "execute_result",
          "data": {
            "text/plain": [
              "-4"
            ]
          },
          "metadata": {
            "tags": []
          },
          "execution_count": 42
        }
      ]
    },
    {
      "cell_type": "code",
      "metadata": {
        "colab": {
          "base_uri": "https://localhost:8080/"
        },
        "id": "VahIv0z9OLW2",
        "outputId": "5352d58c-3ca7-4855-aa4d-2e63d4612155"
      },
      "source": [
        "days_diff(date(2020, 12, 20), date(2020, 12, 22))"
      ],
      "execution_count": 43,
      "outputs": [
        {
          "output_type": "execute_result",
          "data": {
            "text/plain": [
              "2"
            ]
          },
          "metadata": {
            "tags": []
          },
          "execution_count": 43
        }
      ]
    },
    {
      "cell_type": "markdown",
      "metadata": {
        "id": "7QB3yPOUOjXm"
      },
      "source": [
        "### 5. Checks if the given date is a weekday"
      ]
    },
    {
      "cell_type": "markdown",
      "metadata": {
        "id": "MLQOCS-hOkgW"
      },
      "source": [
        "- Use datetime.datetime.weekday() to get the day of the week as an integer.\r\n",
        "- Check if the day of the week is less than or equal to 4.\r\n",
        "- Omit the second argument, d, to use a default value of datetime.today()."
      ]
    },
    {
      "cell_type": "code",
      "metadata": {
        "id": "t_M2aWu-OQEZ"
      },
      "source": [
        "from datetime import datetime\r\n",
        "\r\n",
        "def is_weekday(d = datetime.today()):\r\n",
        "  return d.weekday() <= 4 "
      ],
      "execution_count": 44,
      "outputs": []
    },
    {
      "cell_type": "code",
      "metadata": {
        "colab": {
          "base_uri": "https://localhost:8080/"
        },
        "id": "RbC8QGuoOoxu",
        "outputId": "dce6e480-d47e-4df1-eff5-1079edf2a07b"
      },
      "source": [
        "from datetime import date\r\n",
        "\r\n",
        "is_weekday(date(2020, 12, 25))"
      ],
      "execution_count": 45,
      "outputs": [
        {
          "output_type": "execute_result",
          "data": {
            "text/plain": [
              "True"
            ]
          },
          "metadata": {
            "tags": []
          },
          "execution_count": 45
        }
      ]
    },
    {
      "cell_type": "code",
      "metadata": {
        "colab": {
          "base_uri": "https://localhost:8080/"
        },
        "id": "F_IzFlzwOsIY",
        "outputId": "8270b66b-1463-419a-f55d-ba99a8bd2a39"
      },
      "source": [
        "is_weekday(date(2020, 12, 26))"
      ],
      "execution_count": 46,
      "outputs": [
        {
          "output_type": "execute_result",
          "data": {
            "text/plain": [
              "False"
            ]
          },
          "metadata": {
            "tags": []
          },
          "execution_count": 46
        }
      ]
    },
    {
      "cell_type": "markdown",
      "metadata": {
        "id": "toDFR3WPOzgf"
      },
      "source": [
        "### 6. Checks if the given date is a weekend"
      ]
    },
    {
      "cell_type": "markdown",
      "metadata": {
        "id": "Eny7iB0OO1ik"
      },
      "source": [
        "- Use datetime.datetime.weekday() to get the day of the week as an integer.\r\n",
        "- Check if the day of the week is greater than 4.\r\n",
        "- Omit the second argument, d, to use a default value of datetime.today()."
      ]
    },
    {
      "cell_type": "code",
      "metadata": {
        "id": "_eWbB2BeOtZY"
      },
      "source": [
        "from datetime import datetime\r\n",
        "\r\n",
        "def is_weekend(d = datetime.today()):\r\n",
        "  return d.weekday() > 4 "
      ],
      "execution_count": 47,
      "outputs": []
    },
    {
      "cell_type": "code",
      "metadata": {
        "colab": {
          "base_uri": "https://localhost:8080/"
        },
        "id": "LkpEmO8VO4PA",
        "outputId": "4991002c-6b16-4439-df1b-7b0b92c6b2c2"
      },
      "source": [
        "from datetime import date\r\n",
        "\r\n",
        "is_weekend(date(2020, 12, 25))"
      ],
      "execution_count": 48,
      "outputs": [
        {
          "output_type": "execute_result",
          "data": {
            "text/plain": [
              "False"
            ]
          },
          "metadata": {
            "tags": []
          },
          "execution_count": 48
        }
      ]
    },
    {
      "cell_type": "code",
      "metadata": {
        "colab": {
          "base_uri": "https://localhost:8080/"
        },
        "id": "mwpzL51sO85I",
        "outputId": "00863cf1-9acb-4621-e7bc-9e484c0590a6"
      },
      "source": [
        "is_weekend(date(2020, 10, 24))"
      ],
      "execution_count": 49,
      "outputs": [
        {
          "output_type": "execute_result",
          "data": {
            "text/plain": [
              "True"
            ]
          },
          "metadata": {
            "tags": []
          },
          "execution_count": 49
        }
      ]
    },
    {
      "cell_type": "markdown",
      "metadata": {
        "id": "CBxjcNwcPvFn"
      },
      "source": [
        "### 7. Checks if all elements in a list are equal"
      ]
    },
    {
      "cell_type": "markdown",
      "metadata": {
        "id": "LknCfqlEPwc4"
      },
      "source": [
        "- Use set() to eliminate duplicate elements and then use len() to check if length is 1."
      ]
    },
    {
      "cell_type": "code",
      "metadata": {
        "id": "7T3wKaubPx-q"
      },
      "source": [
        "def all_equal(lst):\r\n",
        "  return len(set(lst)) == 1"
      ],
      "execution_count": 50,
      "outputs": []
    },
    {
      "cell_type": "code",
      "metadata": {
        "colab": {
          "base_uri": "https://localhost:8080/"
        },
        "id": "YczoiOSMQINx",
        "outputId": "397838e2-07d7-4eb2-c192-3976e831a48c"
      },
      "source": [
        "all_equal([1, 2, 3, 4, 5, 6])"
      ],
      "execution_count": 51,
      "outputs": [
        {
          "output_type": "execute_result",
          "data": {
            "text/plain": [
              "False"
            ]
          },
          "metadata": {
            "tags": []
          },
          "execution_count": 51
        }
      ]
    },
    {
      "cell_type": "code",
      "metadata": {
        "colab": {
          "base_uri": "https://localhost:8080/"
        },
        "id": "uj4TPW-OQJpr",
        "outputId": "d4a3a2db-782c-4687-9423-1c1547b31cca"
      },
      "source": [
        "all_equal([1, 1, 1, 1])"
      ],
      "execution_count": 52,
      "outputs": [
        {
          "output_type": "execute_result",
          "data": {
            "text/plain": [
              "True"
            ]
          },
          "metadata": {
            "tags": []
          },
          "execution_count": 52
        }
      ]
    },
    {
      "cell_type": "markdown",
      "metadata": {
        "id": "mO_yNnEPQLUh"
      },
      "source": [
        "### 8. Checks if all the values in a list are unique"
      ]
    },
    {
      "cell_type": "markdown",
      "metadata": {
        "id": "X7BiiumYQZLf"
      },
      "source": [
        "- Use set() on the given list to keep only unique occurences.\r\n",
        "- Use len() to compare the length of the unique values to the original list."
      ]
    },
    {
      "cell_type": "code",
      "metadata": {
        "id": "TGeTw1M2QKcI"
      },
      "source": [
        "def all_unique(lst):\r\n",
        "  return len(lst) == len(set(lst))"
      ],
      "execution_count": 53,
      "outputs": []
    },
    {
      "cell_type": "code",
      "metadata": {
        "id": "oU-LlFnIQceE"
      },
      "source": [
        "x = [1, 2, 3, 4, 5, 6]\r\n",
        "y = [1, 2, 2, 3, 4, 5]"
      ],
      "execution_count": 54,
      "outputs": []
    },
    {
      "cell_type": "code",
      "metadata": {
        "colab": {
          "base_uri": "https://localhost:8080/"
        },
        "id": "nVTC4F8oQdqK",
        "outputId": "075a622f-2f37-40ce-c5e0-6a2490443914"
      },
      "source": [
        "print(all_unique(x))\r\n",
        "print(all_unique(y))"
      ],
      "execution_count": 55,
      "outputs": [
        {
          "output_type": "stream",
          "text": [
            "True\n",
            "False\n"
          ],
          "name": "stdout"
        }
      ]
    },
    {
      "cell_type": "markdown",
      "metadata": {
        "id": "kIKe2SYyQz34"
      },
      "source": [
        "### 9. Generates a list of numbers in the arithmetic progression starting with the given positive integer and up to the specified limit"
      ]
    },
    {
      "cell_type": "markdown",
      "metadata": {
        "id": "uMi7krxHQ1a3"
      },
      "source": [
        "- Use range() and list() with the appropriate start, step and end values."
      ]
    },
    {
      "cell_type": "code",
      "metadata": {
        "id": "casUrA2mQiup"
      },
      "source": [
        "def arithmetic_progression(n, lim):\r\n",
        "  return list(range(n, lim + 1, n))"
      ],
      "execution_count": 56,
      "outputs": []
    },
    {
      "cell_type": "code",
      "metadata": {
        "colab": {
          "base_uri": "https://localhost:8080/"
        },
        "id": "PLevJuIUQ35r",
        "outputId": "95d922df-4182-4530-e37a-783f70605754"
      },
      "source": [
        "arithmetic_progression(5, 50) "
      ],
      "execution_count": 57,
      "outputs": [
        {
          "output_type": "execute_result",
          "data": {
            "text/plain": [
              "[5, 10, 15, 20, 25, 30, 35, 40, 45, 50]"
            ]
          },
          "metadata": {
            "tags": []
          },
          "execution_count": 57
        }
      ]
    },
    {
      "cell_type": "markdown",
      "metadata": {
        "id": "Y3ygzPJeRHMf"
      },
      "source": [
        "### 10. Calculates the average of two or more numbers"
      ]
    },
    {
      "cell_type": "markdown",
      "metadata": {
        "id": "ecmXSyTjRKuu"
      },
      "source": [
        "- Use sum() to sum all of the args provided, divide by len()."
      ]
    },
    {
      "cell_type": "code",
      "metadata": {
        "id": "vxkszoe0Q5bh"
      },
      "source": [
        "def average(*args):\r\n",
        "  return sum(args, 0.0) / len(args)"
      ],
      "execution_count": 58,
      "outputs": []
    },
    {
      "cell_type": "code",
      "metadata": {
        "colab": {
          "base_uri": "https://localhost:8080/"
        },
        "id": "9KUuznYgRMp-",
        "outputId": "4a54b37a-bd5b-4330-d725-fb643765f29f"
      },
      "source": [
        "print(average(*[1, 2, 3]))\r\n",
        "print(average(1, 2, 3))"
      ],
      "execution_count": 59,
      "outputs": [
        {
          "output_type": "stream",
          "text": [
            "2.0\n",
            "2.0\n"
          ],
          "name": "stdout"
        }
      ]
    },
    {
      "cell_type": "markdown",
      "metadata": {
        "id": "6P2fPxgMRSsF"
      },
      "source": [
        "### 11. Calculates the average of a list, after mapping each element to a value using the provided function"
      ]
    },
    {
      "cell_type": "markdown",
      "metadata": {
        "id": "uKjWbSOKRSnO"
      },
      "source": [
        "- Use map() to map each element to the value returned by fn.\r\n",
        "- Use sum() to sum all of the mapped values, divide by len(lst).\r\n",
        "- Omit the last argument, fn, to use the default identity function."
      ]
    },
    {
      "cell_type": "code",
      "metadata": {
        "id": "VxMbhyd0RREv"
      },
      "source": [
        "def average_by(lst, fn = lambda x: x):\r\n",
        "  return sum(map(fn, lst), 0.0) / len(lst)"
      ],
      "execution_count": 60,
      "outputs": []
    },
    {
      "cell_type": "code",
      "metadata": {
        "colab": {
          "base_uri": "https://localhost:8080/"
        },
        "id": "yECkpw0LRgIL",
        "outputId": "da21abc7-f8f4-4e54-bb7a-bcdc1133305b"
      },
      "source": [
        "average_by([{ 'n': 4 }, { 'n': 2 }, { 'n': 8 }, { 'n': 6 }], lambda x: x['n'])"
      ],
      "execution_count": 61,
      "outputs": [
        {
          "output_type": "execute_result",
          "data": {
            "text/plain": [
              "5.0"
            ]
          },
          "metadata": {
            "tags": []
          },
          "execution_count": 61
        }
      ]
    },
    {
      "cell_type": "markdown",
      "metadata": {
        "id": "hL2kxJwvo1YU"
      },
      "source": [
        "### 12. Returns the length of a string in bytes"
      ]
    },
    {
      "cell_type": "markdown",
      "metadata": {
        "id": "3ghxxld7o4v8"
      },
      "source": [
        "- Use str.encode('utf-8') to encode the given string and return its length."
      ]
    },
    {
      "cell_type": "code",
      "metadata": {
        "id": "a_VoxyUxo22z"
      },
      "source": [
        "def byte_size(s):\r\n",
        "  return len(s.encode('utf-8'))"
      ],
      "execution_count": 62,
      "outputs": []
    },
    {
      "cell_type": "code",
      "metadata": {
        "colab": {
          "base_uri": "https://localhost:8080/"
        },
        "id": "YdrIDizORheS",
        "outputId": "fc73d249-24b7-4e77-cb28-5c39b948204c"
      },
      "source": [
        "byte_size('😀')"
      ],
      "execution_count": 63,
      "outputs": [
        {
          "output_type": "execute_result",
          "data": {
            "text/plain": [
              "4"
            ]
          },
          "metadata": {
            "tags": []
          },
          "execution_count": 63
        }
      ]
    },
    {
      "cell_type": "code",
      "metadata": {
        "colab": {
          "base_uri": "https://localhost:8080/"
        },
        "id": "7fCJPfiQo7nO",
        "outputId": "88de5e53-ccf8-4934-d873-718f2cc0af86"
      },
      "source": [
        "byte_size('Hello World')"
      ],
      "execution_count": 64,
      "outputs": [
        {
          "output_type": "execute_result",
          "data": {
            "text/plain": [
              "11"
            ]
          },
          "metadata": {
            "tags": []
          },
          "execution_count": 64
        }
      ]
    },
    {
      "cell_type": "markdown",
      "metadata": {
        "id": "uS2kDAiHpAer"
      },
      "source": [
        "### 13. Calculates the number of ways to choose k items from n items without repetition and without order"
      ]
    },
    {
      "cell_type": "markdown",
      "metadata": {
        "id": "va7fLyS3pDxT"
      },
      "source": [
        "- Use math.comb() to calculate the binomial coefficient."
      ]
    },
    {
      "cell_type": "code",
      "metadata": {
        "colab": {
          "base_uri": "https://localhost:8080/"
        },
        "id": "PsNhWl69pKLb",
        "outputId": "f15aacc8-e5aa-43c1-c3ee-c64948e255ae"
      },
      "source": [
        "!pip install comb"
      ],
      "execution_count": 65,
      "outputs": [
        {
          "output_type": "stream",
          "text": [
            "Collecting comb\n",
            "  Downloading https://files.pythonhosted.org/packages/b3/b3/5f4bc7623d9602205de36da311f316ac5357cded74769bd0d6545abef6a1/comb-0.9.10.tar.gz\n",
            "Collecting cliez\n",
            "  Downloading https://files.pythonhosted.org/packages/2d/d9/f3cc20dab7673dc27ea3e423f3def1674efb2bb4292bd9471b4e67a8150a/cliez-2.1.1.tar.gz\n",
            "Requirement already satisfied: termcolor in /usr/local/lib/python3.6/dist-packages (from cliez->comb) (1.1.0)\n",
            "Requirement already satisfied: future in /usr/local/lib/python3.6/dist-packages (from cliez->comb) (0.16.0)\n",
            "Requirement already satisfied: psutil in /usr/local/lib/python3.6/dist-packages (from cliez->comb) (5.4.8)\n",
            "Building wheels for collected packages: comb, cliez\n",
            "  Building wheel for comb (setup.py) ... \u001b[?25l\u001b[?25hdone\n",
            "  Created wheel for comb: filename=comb-0.9.10-cp36-none-any.whl size=8592 sha256=f600810400933bdff8fac9e963377191ebd8bc920934217c26f1959c8e35e625\n",
            "  Stored in directory: /root/.cache/pip/wheels/87/16/89/3b19caf4c84c5838c9e47ce1d86bbee1b2e531ae3d9f18a1c8\n",
            "  Building wheel for cliez (setup.py) ... \u001b[?25l\u001b[?25hdone\n",
            "  Created wheel for cliez: filename=cliez-2.1.1-cp36-none-any.whl size=16223 sha256=b70b03200d3c77249dea4c0d793d29e33763601b5a4e6c07c84a87bcddbfab58\n",
            "  Stored in directory: /root/.cache/pip/wheels/9e/d8/1a/46c3ed6b52994e9fffea2889b4948e8d902b7b8804b76f1569\n",
            "Successfully built comb cliez\n",
            "Installing collected packages: cliez, comb\n",
            "Successfully installed cliez-2.1.1 comb-0.9.10\n"
          ],
          "name": "stdout"
        }
      ]
    },
    {
      "cell_type": "code",
      "metadata": {
        "id": "d-LDnBiwpDD7"
      },
      "source": [
        "import scipy\r\n",
        "from scipy.special import comb\r\n",
        "\r\n",
        "def binomial_coefficient(n, k):\r\n",
        "  return comb(n, k)"
      ],
      "execution_count": 66,
      "outputs": []
    },
    {
      "cell_type": "code",
      "metadata": {
        "colab": {
          "base_uri": "https://localhost:8080/"
        },
        "id": "Ql-w4iQao8uJ",
        "outputId": "59f65267-0644-4df3-8659-f68fa33c4739"
      },
      "source": [
        "binomial_coefficient(8, 2)"
      ],
      "execution_count": 67,
      "outputs": [
        {
          "output_type": "execute_result",
          "data": {
            "text/plain": [
              "28.0"
            ]
          },
          "metadata": {
            "tags": []
          },
          "execution_count": 67
        }
      ]
    },
    {
      "cell_type": "markdown",
      "metadata": {
        "id": "VtLayISdp8TT"
      },
      "source": [
        "### 14. Splits values into two groups, based on the result of the given filter list"
      ]
    },
    {
      "cell_type": "markdown",
      "metadata": {
        "id": "1z-S8uCbp9mr"
      },
      "source": [
        "- Use a list comprehension and zip() to add elements to groups, based on filter.\r\n",
        "- If filter has a truthy value for any element, add it to the first group, otherwise add it to the second group."
      ]
    },
    {
      "cell_type": "code",
      "metadata": {
        "id": "MRWGz6FGpb0-"
      },
      "source": [
        "def bifurcate(lst, filter):\r\n",
        "  return [\r\n",
        "    [x for x, flag in zip(lst, filter) if flag],\r\n",
        "    [x for x, flag in zip(lst, filter) if not flag]\r\n",
        "  ]"
      ],
      "execution_count": 68,
      "outputs": []
    },
    {
      "cell_type": "code",
      "metadata": {
        "colab": {
          "base_uri": "https://localhost:8080/"
        },
        "id": "TYNWs9ioqA3P",
        "outputId": "07b869cf-e858-4225-bea3-51ffc1c0df0b"
      },
      "source": [
        "bifurcate(['beep', 'boop', 'foo', 'bar'], [True, True, False, True])"
      ],
      "execution_count": 69,
      "outputs": [
        {
          "output_type": "execute_result",
          "data": {
            "text/plain": [
              "[['beep', 'boop', 'bar'], ['foo']]"
            ]
          },
          "metadata": {
            "tags": []
          },
          "execution_count": 69
        }
      ]
    },
    {
      "cell_type": "markdown",
      "metadata": {
        "id": "ygDqmmbdqC1j"
      },
      "source": [
        "### 15. Splits values into two groups, based on the result of the given filtering function"
      ]
    },
    {
      "cell_type": "markdown",
      "metadata": {
        "id": "2UIvgaBdqGac"
      },
      "source": [
        "- Use a list comprehension to add elements to groups, based on the value returned by fn for each element.\r\n",
        "- If fn returns a truthy value for any element, add it to the first group, otherwise add it to the second group."
      ]
    },
    {
      "cell_type": "code",
      "metadata": {
        "id": "38ggPjRtqCNW"
      },
      "source": [
        "def bifurcate_by(lst, fn):\r\n",
        "  return [\r\n",
        "    [x for x in lst if fn(x)],\r\n",
        "    [x for x in lst if not fn(x)]\r\n",
        "  ]"
      ],
      "execution_count": 70,
      "outputs": []
    },
    {
      "cell_type": "code",
      "metadata": {
        "colab": {
          "base_uri": "https://localhost:8080/"
        },
        "id": "lMFL6quGqJTO",
        "outputId": "636f7e60-e9c2-46d7-d10e-a74d670861b0"
      },
      "source": [
        "bifurcate_by(['beep', 'boop', 'foo', 'bar'], lambda x: x[0] == 'b')"
      ],
      "execution_count": 71,
      "outputs": [
        {
          "output_type": "execute_result",
          "data": {
            "text/plain": [
              "[['beep', 'boop', 'bar'], ['foo']]"
            ]
          },
          "metadata": {
            "tags": []
          },
          "execution_count": 71
        }
      ]
    },
    {
      "cell_type": "markdown",
      "metadata": {
        "id": "t8Lm4z-aOnmq"
      },
      "source": [
        "### 16. Returns every nth element in a list"
      ]
    },
    {
      "cell_type": "markdown",
      "metadata": {
        "id": "ak07xsXhOpJQ"
      },
      "source": [
        "- Use slice notation to create a new list that contains every nth element of the given list."
      ]
    },
    {
      "cell_type": "code",
      "metadata": {
        "id": "vDFo95CkqKaQ"
      },
      "source": [
        "def every_nth(lst, nth):\r\n",
        "  return lst[nth - 1::nth]"
      ],
      "execution_count": 72,
      "outputs": []
    },
    {
      "cell_type": "code",
      "metadata": {
        "colab": {
          "base_uri": "https://localhost:8080/"
        },
        "id": "u03CzlKSOrVm",
        "outputId": "0e10dd62-2b6b-4236-fcf2-ea871ad79864"
      },
      "source": [
        "every_nth([1, 2, 3, 4, 5, 6], 2)"
      ],
      "execution_count": 73,
      "outputs": [
        {
          "output_type": "execute_result",
          "data": {
            "text/plain": [
              "[2, 4, 6]"
            ]
          },
          "metadata": {
            "tags": []
          },
          "execution_count": 73
        }
      ]
    },
    {
      "cell_type": "code",
      "metadata": {
        "colab": {
          "base_uri": "https://localhost:8080/"
        },
        "id": "ltfC5teUOs1P",
        "outputId": "1fe19270-b426-417e-8716-50c9bf7aee95"
      },
      "source": [
        "every_nth([1, 2, 3, 4, 5, 6, 7, 8, 9], 3)"
      ],
      "execution_count": 74,
      "outputs": [
        {
          "output_type": "execute_result",
          "data": {
            "text/plain": [
              "[3, 6, 9]"
            ]
          },
          "metadata": {
            "tags": []
          },
          "execution_count": 74
        }
      ]
    },
    {
      "cell_type": "markdown",
      "metadata": {
        "id": "RV_PhY_rO0EA"
      },
      "source": [
        "### 17. Returns factorial of any number"
      ]
    },
    {
      "cell_type": "markdown",
      "metadata": {
        "id": "GmSbFECwO4JA"
      },
      "source": [
        "- Use recursion.\r\n",
        "- If num is less than or equal to 1, return 1.\r\n",
        "- Otherwise, return the product of num and the factorial of num - 1.\r\n",
        "- Throws an exception if num is a negative or a floating point number."
      ]
    },
    {
      "cell_type": "code",
      "metadata": {
        "id": "HPSPP781Ov2j"
      },
      "source": [
        "def factorial(num):\r\n",
        "  if not ((num >= 0) and (num % 1 == 0)):\r\n",
        "    raise Exception(\"Number can't be floating point or negative.\")\r\n",
        "  return 1 if num == 0 else num * factorial(num - 1)"
      ],
      "execution_count": 75,
      "outputs": []
    },
    {
      "cell_type": "code",
      "metadata": {
        "colab": {
          "base_uri": "https://localhost:8080/"
        },
        "id": "yzNKFTatO8qC",
        "outputId": "dbd6aaf5-1666-4ea3-c768-277bb2102c9f"
      },
      "source": [
        "factorial(8)"
      ],
      "execution_count": 76,
      "outputs": [
        {
          "output_type": "execute_result",
          "data": {
            "text/plain": [
              "40320"
            ]
          },
          "metadata": {
            "tags": []
          },
          "execution_count": 76
        }
      ]
    },
    {
      "cell_type": "markdown",
      "metadata": {
        "id": "CM57TYqyPEIh"
      },
      "source": [
        "### 18. Generates a list, containing the Fibonacci sequence, up until the nth term"
      ]
    },
    {
      "cell_type": "markdown",
      "metadata": {
        "id": "YE04564JPF5p"
      },
      "source": [
        "- Starting with 0 and 1, use list.append() to add the sum of the last two numbers of the list to the end of the list, until the length of the list reaches n.\r\n",
        "- If n is less or equal to 0, return a list containing 0."
      ]
    },
    {
      "cell_type": "code",
      "metadata": {
        "id": "C4IWi1pUO-CG"
      },
      "source": [
        "def fibonacci(n):\r\n",
        "  if n <= 0:\r\n",
        "    return [0]\r\n",
        "  sequence = [0, 1]\r\n",
        "  while len(sequence) <= n:\r\n",
        "    next_value = sequence[len(sequence) - 1] + sequence[len(sequence) - 2]\r\n",
        "    sequence.append(next_value)\r\n",
        "  return sequence"
      ],
      "execution_count": 77,
      "outputs": []
    },
    {
      "cell_type": "code",
      "metadata": {
        "colab": {
          "base_uri": "https://localhost:8080/"
        },
        "id": "tkWA6p6MPLI7",
        "outputId": "2ab02111-b993-441e-e1f2-23d86ff7e9eb"
      },
      "source": [
        "fibonacci(8)"
      ],
      "execution_count": 78,
      "outputs": [
        {
          "output_type": "execute_result",
          "data": {
            "text/plain": [
              "[0, 1, 1, 2, 3, 5, 8, 13, 21]"
            ]
          },
          "metadata": {
            "tags": []
          },
          "execution_count": 78
        }
      ]
    },
    {
      "cell_type": "markdown",
      "metadata": {
        "id": "Fyqj4h6iP2cC"
      },
      "source": [
        "### 19. Creates a dictionary with the unique values of a list as keys and their frequencies as the values"
      ]
    },
    {
      "cell_type": "markdown",
      "metadata": {
        "id": "ocb_HoCnP30v"
      },
      "source": [
        "- Use collections.defaultdict() to store the frequencies of each unique element.\r\n",
        "- Use dict() to return a dictionary with the unique elements of the list as keys and their frequencies as the values."
      ]
    },
    {
      "cell_type": "code",
      "metadata": {
        "id": "dH9nLzE_PMya"
      },
      "source": [
        "from collections import defaultdict\r\n",
        "\r\n",
        "def frequencies(lst):\r\n",
        "  freq = defaultdict(int)\r\n",
        "  for val in lst:\r\n",
        "    freq[val] += 1\r\n",
        "  return dict(freq)"
      ],
      "execution_count": 79,
      "outputs": []
    },
    {
      "cell_type": "code",
      "metadata": {
        "colab": {
          "base_uri": "https://localhost:8080/"
        },
        "id": "q7Rud69cP6nt",
        "outputId": "ec057e08-b1c0-405a-a23e-73a832ed4dd7"
      },
      "source": [
        "frequencies(['a', 'b', 'a', 'c', 'a', 'a', 'b']) "
      ],
      "execution_count": 80,
      "outputs": [
        {
          "output_type": "execute_result",
          "data": {
            "text/plain": [
              "{'a': 4, 'b': 2, 'c': 1}"
            ]
          },
          "metadata": {
            "tags": []
          },
          "execution_count": 80
        }
      ]
    },
    {
      "cell_type": "markdown",
      "metadata": {
        "id": "6OpjT7FSQHJA"
      },
      "source": [
        "### 20. Retrieves the value of the nested key indicated by the given selector list from a dictionary or list"
      ]
    },
    {
      "cell_type": "markdown",
      "metadata": {
        "id": "Z9gpJlHFQIpw"
      },
      "source": [
        "- Use functools.reduce() to iterate over the selectors list.\r\n",
        "- Apply operator.getitem() for each key in selectors, retrieving the value to be used as the iteratee for the next iteration."
      ]
    },
    {
      "cell_type": "code",
      "metadata": {
        "id": "76uKUDlFP7o_"
      },
      "source": [
        "from functools import reduce \r\n",
        "from operator import getitem\r\n",
        "\r\n",
        "def get(d, selectors):\r\n",
        "  return reduce(getitem, selectors, d)"
      ],
      "execution_count": 81,
      "outputs": []
    },
    {
      "cell_type": "code",
      "metadata": {
        "colab": {
          "base_uri": "https://localhost:8080/"
        },
        "id": "gl186Y6JQNdN",
        "outputId": "8bc46688-53e3-4d2c-a60e-132114f3c2d4"
      },
      "source": [
        "users = {\r\n",
        "  'freddy': {\r\n",
        "    'name': {\r\n",
        "      'first': 'fred',\r\n",
        "      'last': 'smith' \r\n",
        "    },\r\n",
        "    'postIds': [1, 2, 3]\r\n",
        "  }\r\n",
        "}\r\n",
        "print(get(users, ['freddy', 'name', 'last']))\r\n",
        "print(get(users, ['freddy', 'postIds', 1]))"
      ],
      "execution_count": 82,
      "outputs": [
        {
          "output_type": "stream",
          "text": [
            "smith\n",
            "2\n"
          ],
          "name": "stdout"
        }
      ]
    },
    {
      "cell_type": "markdown",
      "metadata": {
        "id": "TtyMfqWcRLvb"
      },
      "source": [
        "### 21. Checks if all the elements in values are included in lst"
      ]
    },
    {
      "cell_type": "markdown",
      "metadata": {
        "id": "dyK6elmyRO1D"
      },
      "source": [
        "- Check if every value in values is contained in lst using a for loop.\r\n",
        "- Return False if any one value is not found, True otherwise."
      ]
    },
    {
      "cell_type": "markdown",
      "metadata": {
        "id": "nfdYWHXURLlc"
      },
      "source": [
        ""
      ]
    },
    {
      "cell_type": "code",
      "metadata": {
        "id": "I3WLFFIFRLNi"
      },
      "source": [
        "def includes_all(lst, values):\r\n",
        "  for v in values:\r\n",
        "    if v not in lst:\r\n",
        "      return False\r\n",
        "  return True"
      ],
      "execution_count": 83,
      "outputs": []
    },
    {
      "cell_type": "code",
      "metadata": {
        "colab": {
          "base_uri": "https://localhost:8080/"
        },
        "id": "y9k-_hcNRTws",
        "outputId": "8f9e0c7f-cf77-4409-9be9-0d0c47865fa7"
      },
      "source": [
        "includes_all([1, 2, 3, 4], [1, 4])"
      ],
      "execution_count": 84,
      "outputs": [
        {
          "output_type": "execute_result",
          "data": {
            "text/plain": [
              "True"
            ]
          },
          "metadata": {
            "tags": []
          },
          "execution_count": 84
        }
      ]
    },
    {
      "cell_type": "code",
      "metadata": {
        "colab": {
          "base_uri": "https://localhost:8080/"
        },
        "id": "pVKxIWbdRUDD",
        "outputId": "ad263671-321c-4b16-f0f2-9b566b90492b"
      },
      "source": [
        "includes_all([1, 2, 3, 4], [1, 5])"
      ],
      "execution_count": 85,
      "outputs": [
        {
          "output_type": "execute_result",
          "data": {
            "text/plain": [
              "False"
            ]
          },
          "metadata": {
            "tags": []
          },
          "execution_count": 85
        }
      ]
    },
    {
      "cell_type": "markdown",
      "metadata": {
        "id": "JaytLmitRbEj"
      },
      "source": [
        "### 22. Checks if the given number falls within the given range"
      ]
    },
    {
      "cell_type": "markdown",
      "metadata": {
        "id": "uZI5twWORdje"
      },
      "source": [
        "- Use arithmetic comparison to check if the given number is in the specified range.\r\n",
        "- If the second parameter, end, is not specified, the range is considered to be from 0 to start."
      ]
    },
    {
      "cell_type": "code",
      "metadata": {
        "id": "nky0ONBeRU-h"
      },
      "source": [
        "def in_range(n, start, end = 0):\r\n",
        "  return start <= n <= end if end >= start else end <= n <= start"
      ],
      "execution_count": 86,
      "outputs": []
    },
    {
      "cell_type": "code",
      "metadata": {
        "colab": {
          "base_uri": "https://localhost:8080/"
        },
        "id": "lncg-gsLRjeW",
        "outputId": "1107af6a-1a20-47b4-c294-ba2162727bd6"
      },
      "source": [
        "print(\r\n",
        "    in_range(3, 2, 5),\r\n",
        "    in_range(3, 4),\r\n",
        "    in_range(2, 3, 5),\r\n",
        "    in_range(3, 2)\r\n",
        "    )"
      ],
      "execution_count": 87,
      "outputs": [
        {
          "output_type": "stream",
          "text": [
            "True True False False\n"
          ],
          "name": "stdout"
        }
      ]
    },
    {
      "cell_type": "markdown",
      "metadata": {
        "id": "uRdjW-R8R1FP"
      },
      "source": [
        "### 23. Returns all the elements of a list except the last one"
      ]
    },
    {
      "cell_type": "markdown",
      "metadata": {
        "id": "gKUCe3etR4JD"
      },
      "source": [
        "- Use lst[:-1] to return all but the last element of the list."
      ]
    },
    {
      "cell_type": "code",
      "metadata": {
        "id": "cUYA1dXpRryq"
      },
      "source": [
        "def initial(lst):\r\n",
        "  return lst[:-1]"
      ],
      "execution_count": 88,
      "outputs": []
    },
    {
      "cell_type": "code",
      "metadata": {
        "colab": {
          "base_uri": "https://localhost:8080/"
        },
        "id": "-XZ_YY9RR6pj",
        "outputId": "4ad0ba13-48ab-4415-b111-19349c1c3f0d"
      },
      "source": [
        "initial([1, 2, 3])"
      ],
      "execution_count": 89,
      "outputs": [
        {
          "output_type": "execute_result",
          "data": {
            "text/plain": [
              "[1, 2]"
            ]
          },
          "metadata": {
            "tags": []
          },
          "execution_count": 89
        }
      ]
    },
    {
      "cell_type": "markdown",
      "metadata": {
        "id": "0ToIl7N6R-CK"
      },
      "source": [
        "### 24. Initializes a 2D list of given width and height and value"
      ]
    },
    {
      "cell_type": "markdown",
      "metadata": {
        "id": "41K4l850SBxq"
      },
      "source": [
        "- Use a list comprehension and range() to generate h rows where each is a list with length h, initialized with val.\r\n",
        "- Omit the last argument, val, to set the default value to None."
      ]
    },
    {
      "cell_type": "code",
      "metadata": {
        "id": "hZUpITL0R8Ea"
      },
      "source": [
        "def initialize_2d_list(w, h, val = None):\r\n",
        "  return [[val for x in range(w)] for y in range(h)]"
      ],
      "execution_count": 90,
      "outputs": []
    },
    {
      "cell_type": "code",
      "metadata": {
        "colab": {
          "base_uri": "https://localhost:8080/"
        },
        "id": "f_yHh8amSFp1",
        "outputId": "edad8077-6842-4761-924c-5fdf90dd1cd2"
      },
      "source": [
        "initialize_2d_list(2, 2, 0)"
      ],
      "execution_count": 91,
      "outputs": [
        {
          "output_type": "execute_result",
          "data": {
            "text/plain": [
              "[[0, 0], [0, 0]]"
            ]
          },
          "metadata": {
            "tags": []
          },
          "execution_count": 91
        }
      ]
    },
    {
      "cell_type": "markdown",
      "metadata": {
        "id": "TQgjpPWRSRr7"
      },
      "source": [
        "### 25. Initializes a list containing the numbers in the specified range where start and end are inclusive with their common difference step"
      ]
    },
    {
      "cell_type": "markdown",
      "metadata": {
        "id": "6cL8sjM4SUAL"
      },
      "source": [
        "- Use list() and range() to generate a list of the appropriate length, filled with the desired values in the given range.\r\n",
        "- Omit start to use the default value of 0.\r\n",
        "- Omit step to use the default value of 1."
      ]
    },
    {
      "cell_type": "code",
      "metadata": {
        "id": "m7DQTMniSG09"
      },
      "source": [
        "def initialize_list_with_range(end, start = 0, step = 1):\r\n",
        "  return list(range(start, end + 1, step))"
      ],
      "execution_count": 92,
      "outputs": []
    },
    {
      "cell_type": "code",
      "metadata": {
        "colab": {
          "base_uri": "https://localhost:8080/"
        },
        "id": "Pg2BbH9cSYHr",
        "outputId": "038a36c4-3d43-435f-be88-89312050373f"
      },
      "source": [
        "print(\r\n",
        "    initialize_list_with_range(5),\r\n",
        "    initialize_list_with_range(7, 3),\r\n",
        "    initialize_list_with_range(9, 0, 2)\r\n",
        ")"
      ],
      "execution_count": 93,
      "outputs": [
        {
          "output_type": "stream",
          "text": [
            "[0, 1, 2, 3, 4, 5] [3, 4, 5, 6, 7] [0, 2, 4, 6, 8]\n"
          ],
          "name": "stdout"
        }
      ]
    },
    {
      "cell_type": "markdown",
      "metadata": {
        "id": "guJ81IW2StqT"
      },
      "source": [
        "### 26. Initializes and fills a list with the specified value"
      ]
    },
    {
      "cell_type": "markdown",
      "metadata": {
        "id": "ImLfM9VcSw9a"
      },
      "source": [
        "- Use a list comprehension and range() to generate a list of length equal to n, filled with the desired values.\r\n",
        "- Omit val to use the default value of 0."
      ]
    },
    {
      "cell_type": "code",
      "metadata": {
        "id": "UVf5D27XShY9"
      },
      "source": [
        "def initialize_list_with_values(n, val = 0):\r\n",
        "  return [val for x in range(n)]"
      ],
      "execution_count": 94,
      "outputs": []
    },
    {
      "cell_type": "code",
      "metadata": {
        "colab": {
          "base_uri": "https://localhost:8080/"
        },
        "id": "0_0qTYWTSzvy",
        "outputId": "a957ca8f-8ecb-4efd-8d0b-e4d1fba2de6a"
      },
      "source": [
        "initialize_list_with_values(5, 2)"
      ],
      "execution_count": 95,
      "outputs": [
        {
          "output_type": "execute_result",
          "data": {
            "text/plain": [
              "[2, 2, 2, 2, 2]"
            ]
          },
          "metadata": {
            "tags": []
          },
          "execution_count": 95
        }
      ]
    },
    {
      "cell_type": "markdown",
      "metadata": {
        "id": "n8EXb_JMS25K"
      },
      "source": [
        "### 27. Returns a list of elements that exist in both lists, after applying the provided function to each list element of both"
      ]
    },
    {
      "cell_type": "markdown",
      "metadata": {
        "id": "KhUUvhWyS43D"
      },
      "source": [
        "- Create a set, using map() to apply fn to each element in b.\r\n",
        "- Use a list comprehension in combination with fn on a to only keep values contained in both lists."
      ]
    },
    {
      "cell_type": "code",
      "metadata": {
        "id": "zTgfdEs1S0yB"
      },
      "source": [
        "def intersection_by(a, b, fn):\r\n",
        "  _b = set(map(fn, b))\r\n",
        "  return [item for item in a if fn(item) in _b]"
      ],
      "execution_count": 96,
      "outputs": []
    },
    {
      "cell_type": "code",
      "metadata": {
        "colab": {
          "base_uri": "https://localhost:8080/"
        },
        "id": "OBWbOrcJS8L8",
        "outputId": "d0170323-497e-4c71-99b2-6d5459f0daa9"
      },
      "source": [
        "from math import floor\r\n",
        "\r\n",
        "intersection_by([2.1, 1.2], [2.3, 3.4], floor)"
      ],
      "execution_count": 97,
      "outputs": [
        {
          "output_type": "execute_result",
          "data": {
            "text/plain": [
              "[2.1]"
            ]
          },
          "metadata": {
            "tags": []
          },
          "execution_count": 97
        }
      ]
    },
    {
      "cell_type": "markdown",
      "metadata": {
        "id": "6CoPg0aNS_Rb"
      },
      "source": [
        "### 28. Checks if the given key exists in a dictionary"
      ]
    },
    {
      "cell_type": "markdown",
      "metadata": {
        "id": "PwmtJrITTAxi"
      },
      "source": [
        "- Use the in operator to check if d contains key"
      ]
    },
    {
      "cell_type": "code",
      "metadata": {
        "id": "7q2E0if2S9ON"
      },
      "source": [
        "def key_in_dict(d, key):\r\n",
        "  return (key in d)"
      ],
      "execution_count": 98,
      "outputs": []
    },
    {
      "cell_type": "code",
      "metadata": {
        "colab": {
          "base_uri": "https://localhost:8080/"
        },
        "id": "AR6Tp1mJTDmO",
        "outputId": "0a72cd11-440b-46ae-ee3a-138c6ebf0da3"
      },
      "source": [
        "d = {'one': 1, 'three': 3, 'five': 5, 'two': 2, 'four': 4}\r\n",
        "key_in_dict(d, 'three')"
      ],
      "execution_count": 99,
      "outputs": [
        {
          "output_type": "execute_result",
          "data": {
            "text/plain": [
              "True"
            ]
          },
          "metadata": {
            "tags": []
          },
          "execution_count": 99
        }
      ]
    },
    {
      "cell_type": "markdown",
      "metadata": {
        "id": "aw6W_XDfTunP"
      },
      "source": [
        "### 29. Creates a flat list of all the keys in a flat dictionary"
      ]
    },
    {
      "cell_type": "markdown",
      "metadata": {
        "id": "MKQdJy0_T00K"
      },
      "source": [
        "- Use dict.keys() to return the keys in the given dictionary.\r\n",
        "- Return a list() of the previous result."
      ]
    },
    {
      "cell_type": "code",
      "metadata": {
        "id": "lwIIvflRTE2x"
      },
      "source": [
        "def keys_only(flat_dict):\r\n",
        "  return list(flat_dict.keys())"
      ],
      "execution_count": 100,
      "outputs": []
    },
    {
      "cell_type": "code",
      "metadata": {
        "colab": {
          "base_uri": "https://localhost:8080/"
        },
        "id": "ztn69QZcT4Kv",
        "outputId": "03ae26ff-9e42-48c4-b118-ff40c7dbf06f"
      },
      "source": [
        "ages = {\r\n",
        "  'Peter': 10,\r\n",
        "  'Isabel': 11,\r\n",
        "  'Anna': 9,\r\n",
        "}\r\n",
        "keys_only(ages)"
      ],
      "execution_count": 101,
      "outputs": [
        {
          "output_type": "execute_result",
          "data": {
            "text/plain": [
              "['Peter', 'Isabel', 'Anna']"
            ]
          },
          "metadata": {
            "tags": []
          },
          "execution_count": 101
        }
      ]
    },
    {
      "cell_type": "markdown",
      "metadata": {
        "id": "YMZWTae_T8vC"
      },
      "source": [
        "### 30. Returns the last element in a list"
      ]
    },
    {
      "cell_type": "markdown",
      "metadata": {
        "id": "PygHVAYYT_L8"
      },
      "source": [
        "- Use lst[-1] to return the last element of the passed list."
      ]
    },
    {
      "cell_type": "code",
      "metadata": {
        "id": "EFLZ4JbyT50d"
      },
      "source": [
        "def last(lst):\r\n",
        "  return lst[-1]"
      ],
      "execution_count": 102,
      "outputs": []
    },
    {
      "cell_type": "code",
      "metadata": {
        "colab": {
          "base_uri": "https://localhost:8080/"
        },
        "id": "UR1hZLR7UA3a",
        "outputId": "1ce47436-fa5e-4df9-a5ac-8c4076440aa0"
      },
      "source": [
        "last([1, 2, 3])"
      ],
      "execution_count": 103,
      "outputs": [
        {
          "output_type": "execute_result",
          "data": {
            "text/plain": [
              "3"
            ]
          },
          "metadata": {
            "tags": []
          },
          "execution_count": 103
        }
      ]
    },
    {
      "cell_type": "markdown",
      "metadata": {
        "id": "GUG0gXq5UEJV"
      },
      "source": [
        "### 31. Takes any number of iterable objects or objects with a length property and returns the longest one"
      ]
    },
    {
      "cell_type": "markdown",
      "metadata": {
        "id": "aLpA5iYgUGGK"
      },
      "source": [
        "- Use max() with len() as the key to return the item with the greatest length.\r\n",
        "- If multiple objects have the same length, the first one will be returned."
      ]
    },
    {
      "cell_type": "code",
      "metadata": {
        "id": "aDbIFz0wUB_d"
      },
      "source": [
        "def longest_item(*args):\r\n",
        "  return max(args, key = len)"
      ],
      "execution_count": 104,
      "outputs": []
    },
    {
      "cell_type": "code",
      "metadata": {
        "colab": {
          "base_uri": "https://localhost:8080/",
          "height": 35
        },
        "id": "7bisi0kxUKS6",
        "outputId": "b3444d73-dcce-48b5-cbfb-7fbbf903cc2c"
      },
      "source": [
        "longest_item('this', 'is', 'a', 'testcase')"
      ],
      "execution_count": 105,
      "outputs": [
        {
          "output_type": "execute_result",
          "data": {
            "application/vnd.google.colaboratory.intrinsic+json": {
              "type": "string"
            },
            "text/plain": [
              "'testcase'"
            ]
          },
          "metadata": {
            "tags": []
          },
          "execution_count": 105
        }
      ]
    },
    {
      "cell_type": "code",
      "metadata": {
        "colab": {
          "base_uri": "https://localhost:8080/"
        },
        "id": "VzI1LvPLULUV",
        "outputId": "66385da0-6c3d-4aa2-f444-8bd0515f0f0e"
      },
      "source": [
        "longest_item([1, 2, 3], [1, 2], [1, 2, 3, 4, 5])"
      ],
      "execution_count": 106,
      "outputs": [
        {
          "output_type": "execute_result",
          "data": {
            "text/plain": [
              "[1, 2, 3, 4, 5]"
            ]
          },
          "metadata": {
            "tags": []
          },
          "execution_count": 106
        }
      ]
    },
    {
      "cell_type": "code",
      "metadata": {
        "colab": {
          "base_uri": "https://localhost:8080/",
          "height": 35
        },
        "id": "eOzRjxvtUNg8",
        "outputId": "4b2c911e-db9f-4ed2-c8eb-3de92037b3b0"
      },
      "source": [
        "longest_item([1, 2, 3], 'foobar')"
      ],
      "execution_count": 107,
      "outputs": [
        {
          "output_type": "execute_result",
          "data": {
            "application/vnd.google.colaboratory.intrinsic+json": {
              "type": "string"
            },
            "text/plain": [
              "'foobar'"
            ]
          },
          "metadata": {
            "tags": []
          },
          "execution_count": 107
        }
      ]
    },
    {
      "cell_type": "markdown",
      "metadata": {
        "id": "IAhgkhrUUgBC"
      },
      "source": [
        "### 32. Converts a given string into a list of words"
      ]
    },
    {
      "cell_type": "markdown",
      "metadata": {
        "id": "pDrg1HjKUiXC"
      },
      "source": [
        "- Use re.findall() with the supplied pattern to find all matching substrings.\r\n",
        "- Omit the second argument to use the default regexp, which matches alphanumeric and hyphens."
      ]
    },
    {
      "cell_type": "code",
      "metadata": {
        "id": "MC94_BhgUOY_"
      },
      "source": [
        "import re\r\n",
        "\r\n",
        "def words(s, pattern = '[a-zA-Z-]+'):\r\n",
        "  return re.findall(pattern, s)"
      ],
      "execution_count": 108,
      "outputs": []
    },
    {
      "cell_type": "code",
      "metadata": {
        "colab": {
          "base_uri": "https://localhost:8080/"
        },
        "id": "mCMRmopXUle2",
        "outputId": "acbf74dc-1a06-4483-edae-e235167fb1dd"
      },
      "source": [
        "words('I love Python!!')"
      ],
      "execution_count": 109,
      "outputs": [
        {
          "output_type": "execute_result",
          "data": {
            "text/plain": [
              "['I', 'love', 'Python']"
            ]
          },
          "metadata": {
            "tags": []
          },
          "execution_count": 109
        }
      ]
    },
    {
      "cell_type": "code",
      "metadata": {
        "colab": {
          "base_uri": "https://localhost:8080/"
        },
        "id": "4OpVBwCqUn0Q",
        "outputId": "ffe5446a-cf63-4436-acc3-8e4e15f8df51"
      },
      "source": [
        "words('python, javaScript & coffee')"
      ],
      "execution_count": 110,
      "outputs": [
        {
          "output_type": "execute_result",
          "data": {
            "text/plain": [
              "['python', 'javaScript', 'coffee']"
            ]
          },
          "metadata": {
            "tags": []
          },
          "execution_count": 110
        }
      ]
    },
    {
      "cell_type": "code",
      "metadata": {
        "colab": {
          "base_uri": "https://localhost:8080/"
        },
        "id": "rhTn9YG9Uo7m",
        "outputId": "9be665f5-2954-4606-a07f-21a81e04c16b"
      },
      "source": [
        "words('build -q --out one-item', r'\\b[a-zA-Z-]+\\b')"
      ],
      "execution_count": 111,
      "outputs": [
        {
          "output_type": "execute_result",
          "data": {
            "text/plain": [
              "['build', 'q', 'out', 'one-item']"
            ]
          },
          "metadata": {
            "tags": []
          },
          "execution_count": 111
        }
      ]
    }
  ]
}