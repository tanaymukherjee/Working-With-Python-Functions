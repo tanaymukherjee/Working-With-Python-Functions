{
  "nbformat": 4,
  "nbformat_minor": 0,
  "metadata": {
    "colab": {
      "name": "Working with functions.ipynb",
      "provenance": [],
      "collapsed_sections": [],
      "authorship_tag": "ABX9TyNrthRKXJ3GVix0pfsF+XDw",
      "include_colab_link": true
    },
    "kernelspec": {
      "name": "python3",
      "display_name": "Python 3"
    }
  },
  "cells": [
    {
      "cell_type": "markdown",
      "metadata": {
        "id": "view-in-github",
        "colab_type": "text"
      },
      "source": [
        "<a href=\"https://colab.research.google.com/github/tanaymukherjee/Working-With-Python-Functions/blob/main/Working_with_functions.ipynb\" target=\"_parent\"><img src=\"https://colab.research.google.com/assets/colab-badge.svg\" alt=\"Open In Colab\"/></a>"
      ]
    },
    {
      "cell_type": "markdown",
      "metadata": {
        "id": "0FaHS6HSNCwi"
      },
      "source": [
        "# Working with functions"
      ]
    },
    {
      "cell_type": "markdown",
      "metadata": {
        "id": "iB4Byr15QSqG"
      },
      "source": [
        "----"
      ]
    },
    {
      "cell_type": "markdown",
      "metadata": {
        "id": "vn4tfpEENQu0"
      },
      "source": [
        "### 1. Calculates the date of n days from the given date"
      ]
    },
    {
      "cell_type": "markdown",
      "metadata": {
        "id": "iR2o-nggNVO4"
      },
      "source": [
        "- Use datetime.timedelta and the + operator to calculate the new datetime.datetime value after adding n days to d.\r\n",
        "- Omit the second argument, d, to use a default value of datetime.today()."
      ]
    },
    {
      "cell_type": "code",
      "metadata": {
        "id": "zrtkdaxCM-AK"
      },
      "source": [
        "from datetime import datetime, timedelta\r\n",
        "\r\n",
        "def add_days(n, d = datetime.today()):\r\n",
        "  return d + timedelta(n)"
      ],
      "execution_count": 1,
      "outputs": []
    },
    {
      "cell_type": "code",
      "metadata": {
        "colab": {
          "base_uri": "https://localhost:8080/"
        },
        "id": "bRo7V7zcNZsQ",
        "outputId": "7f0f61d0-c10b-4329-f1a7-6ccad83be203"
      },
      "source": [
        "from datetime import date\r\n",
        "\r\n",
        "add_days(5, date(2020, 10, 25))"
      ],
      "execution_count": 3,
      "outputs": [
        {
          "output_type": "execute_result",
          "data": {
            "text/plain": [
              "datetime.date(2020, 10, 30)"
            ]
          },
          "metadata": {
            "tags": []
          },
          "execution_count": 3
        }
      ]
    },
    {
      "cell_type": "code",
      "metadata": {
        "colab": {
          "base_uri": "https://localhost:8080/"
        },
        "id": "EkK6mLVmNbhE",
        "outputId": "aef135f3-0524-4a57-c2d1-881a3631c8c5"
      },
      "source": [
        "add_days(-5, date(2020, 10, 25))"
      ],
      "execution_count": 4,
      "outputs": [
        {
          "output_type": "execute_result",
          "data": {
            "text/plain": [
              "datetime.date(2020, 10, 20)"
            ]
          },
          "metadata": {
            "tags": []
          },
          "execution_count": 4
        }
      ]
    },
    {
      "cell_type": "markdown",
      "metadata": {
        "id": "o7obX_F0Nxq3"
      },
      "source": [
        "### 2. Calculates the date of n days ago from today"
      ]
    },
    {
      "cell_type": "markdown",
      "metadata": {
        "id": "dWCgnjZ0Nxnr"
      },
      "source": [
        "- Use datetime.date.today() to get the current day.\r\n",
        "- Use datetime.timedelta to subtract n days from today's date."
      ]
    },
    {
      "cell_type": "code",
      "metadata": {
        "id": "H2PATSSqNg5F"
      },
      "source": [
        "from datetime import timedelta, date\r\n",
        "\r\n",
        "def days_ago(n):\r\n",
        "  return date.today() - timedelta(n)"
      ],
      "execution_count": 5,
      "outputs": []
    },
    {
      "cell_type": "code",
      "metadata": {
        "colab": {
          "base_uri": "https://localhost:8080/"
        },
        "id": "JK3F9n3rN3I5",
        "outputId": "c9dfd10b-4cbe-49c6-d4a5-bd1c1fe699b9"
      },
      "source": [
        "days_ago(5) ## today's date - 12/24/2020"
      ],
      "execution_count": 6,
      "outputs": [
        {
          "output_type": "execute_result",
          "data": {
            "text/plain": [
              "datetime.date(2020, 12, 19)"
            ]
          },
          "metadata": {
            "tags": []
          },
          "execution_count": 6
        }
      ]
    },
    {
      "cell_type": "markdown",
      "metadata": {
        "id": "aeMyV_mWOWlA"
      },
      "source": [
        "### 3. Calculates the date of n days from today"
      ]
    },
    {
      "cell_type": "markdown",
      "metadata": {
        "id": "9hVNVtjXOWdJ"
      },
      "source": [
        "- Use datetime.date.today() to get the current day.\r\n",
        "- Use datetime.timedelta to add n days from today's date."
      ]
    },
    {
      "cell_type": "code",
      "metadata": {
        "id": "pH0WMQ_KOWuX"
      },
      "source": [
        "from datetime import timedelta, date\r\n",
        "\r\n",
        "def days_from_now(n):\r\n",
        "  return date.today() + timedelta(n)"
      ],
      "execution_count": 11,
      "outputs": []
    },
    {
      "cell_type": "code",
      "metadata": {
        "colab": {
          "base_uri": "https://localhost:8080/"
        },
        "id": "S5jpO0i-Oe46",
        "outputId": "0321fca7-658b-48d7-8898-19ffea32ecbf"
      },
      "source": [
        "days_from_now(5)"
      ],
      "execution_count": 12,
      "outputs": [
        {
          "output_type": "execute_result",
          "data": {
            "text/plain": [
              "datetime.date(2020, 12, 29)"
            ]
          },
          "metadata": {
            "tags": []
          },
          "execution_count": 12
        }
      ]
    },
    {
      "cell_type": "markdown",
      "metadata": {
        "id": "XX2rKOa2N-6B"
      },
      "source": [
        "### 4. Calculates the day difference between two dates"
      ]
    },
    {
      "cell_type": "markdown",
      "metadata": {
        "id": "rWYI3ydAODag"
      },
      "source": [
        "- Subtract start from end and use datetime.timedelta.days to get the day difference."
      ]
    },
    {
      "cell_type": "code",
      "metadata": {
        "id": "1siuip5wN4D2"
      },
      "source": [
        "def days_diff(start, end):\r\n",
        "  return (end - start).days"
      ],
      "execution_count": 7,
      "outputs": []
    },
    {
      "cell_type": "code",
      "metadata": {
        "colab": {
          "base_uri": "https://localhost:8080/"
        },
        "id": "VI6EsLp1OGqi",
        "outputId": "e40faa0c-bbf8-43df-c074-df622421d439"
      },
      "source": [
        "from datetime import date\r\n",
        "\r\n",
        "days_diff(date(2020, 12, 24), date(2020, 12, 20))"
      ],
      "execution_count": 9,
      "outputs": [
        {
          "output_type": "execute_result",
          "data": {
            "text/plain": [
              "-4"
            ]
          },
          "metadata": {
            "tags": []
          },
          "execution_count": 9
        }
      ]
    },
    {
      "cell_type": "code",
      "metadata": {
        "colab": {
          "base_uri": "https://localhost:8080/"
        },
        "id": "VahIv0z9OLW2",
        "outputId": "13fe32f8-6116-4dce-eb2c-ac5f36c4923e"
      },
      "source": [
        "days_diff(date(2020, 12, 20), date(2020, 12, 22))"
      ],
      "execution_count": 10,
      "outputs": [
        {
          "output_type": "execute_result",
          "data": {
            "text/plain": [
              "2"
            ]
          },
          "metadata": {
            "tags": []
          },
          "execution_count": 10
        }
      ]
    },
    {
      "cell_type": "markdown",
      "metadata": {
        "id": "7QB3yPOUOjXm"
      },
      "source": [
        "### 5. Checks if the given date is a weekday"
      ]
    },
    {
      "cell_type": "markdown",
      "metadata": {
        "id": "MLQOCS-hOkgW"
      },
      "source": [
        "- Use datetime.datetime.weekday() to get the day of the week as an integer.\r\n",
        "- Check if the day of the week is less than or equal to 4.\r\n",
        "- Omit the second argument, d, to use a default value of datetime.today()."
      ]
    },
    {
      "cell_type": "code",
      "metadata": {
        "id": "t_M2aWu-OQEZ"
      },
      "source": [
        "from datetime import datetime\r\n",
        "\r\n",
        "def is_weekday(d = datetime.today()):\r\n",
        "  return d.weekday() <= 4 "
      ],
      "execution_count": 14,
      "outputs": []
    },
    {
      "cell_type": "code",
      "metadata": {
        "colab": {
          "base_uri": "https://localhost:8080/"
        },
        "id": "RbC8QGuoOoxu",
        "outputId": "c3337510-109c-46ea-c122-1fdbf429a0fa"
      },
      "source": [
        "from datetime import date\r\n",
        "\r\n",
        "is_weekday(date(2020, 12, 25))"
      ],
      "execution_count": 17,
      "outputs": [
        {
          "output_type": "execute_result",
          "data": {
            "text/plain": [
              "True"
            ]
          },
          "metadata": {
            "tags": []
          },
          "execution_count": 17
        }
      ]
    },
    {
      "cell_type": "code",
      "metadata": {
        "colab": {
          "base_uri": "https://localhost:8080/"
        },
        "id": "F_IzFlzwOsIY",
        "outputId": "930bdfe8-ef6d-4b26-ae62-3776dab440d9"
      },
      "source": [
        "is_weekday(date(2020, 12, 26))"
      ],
      "execution_count": 18,
      "outputs": [
        {
          "output_type": "execute_result",
          "data": {
            "text/plain": [
              "False"
            ]
          },
          "metadata": {
            "tags": []
          },
          "execution_count": 18
        }
      ]
    },
    {
      "cell_type": "markdown",
      "metadata": {
        "id": "toDFR3WPOzgf"
      },
      "source": [
        "### 6. Checks if the given date is a weekend"
      ]
    },
    {
      "cell_type": "markdown",
      "metadata": {
        "id": "Eny7iB0OO1ik"
      },
      "source": [
        "- Use datetime.datetime.weekday() to get the day of the week as an integer.\r\n",
        "- Check if the day of the week is greater than 4.\r\n",
        "- Omit the second argument, d, to use a default value of datetime.today()."
      ]
    },
    {
      "cell_type": "code",
      "metadata": {
        "id": "_eWbB2BeOtZY"
      },
      "source": [
        "from datetime import datetime\r\n",
        "\r\n",
        "def is_weekend(d = datetime.today()):\r\n",
        "  return d.weekday() > 4 "
      ],
      "execution_count": 19,
      "outputs": []
    },
    {
      "cell_type": "code",
      "metadata": {
        "colab": {
          "base_uri": "https://localhost:8080/"
        },
        "id": "LkpEmO8VO4PA",
        "outputId": "1a39e57e-af1f-48c1-cc77-5e1f253c73bd"
      },
      "source": [
        "from datetime import date\r\n",
        "\r\n",
        "is_weekend(date(2020, 12, 25))"
      ],
      "execution_count": 20,
      "outputs": [
        {
          "output_type": "execute_result",
          "data": {
            "text/plain": [
              "False"
            ]
          },
          "metadata": {
            "tags": []
          },
          "execution_count": 20
        }
      ]
    },
    {
      "cell_type": "code",
      "metadata": {
        "colab": {
          "base_uri": "https://localhost:8080/"
        },
        "id": "mwpzL51sO85I",
        "outputId": "f5d86eaf-6912-49b9-c15e-3af164067c80"
      },
      "source": [
        "is_weekend(date(2020, 10, 24))"
      ],
      "execution_count": 23,
      "outputs": [
        {
          "output_type": "execute_result",
          "data": {
            "text/plain": [
              "True"
            ]
          },
          "metadata": {
            "tags": []
          },
          "execution_count": 23
        }
      ]
    },
    {
      "cell_type": "markdown",
      "metadata": {
        "id": "CBxjcNwcPvFn"
      },
      "source": [
        "### 7. Checks if all elements in a list are equal"
      ]
    },
    {
      "cell_type": "markdown",
      "metadata": {
        "id": "LknCfqlEPwc4"
      },
      "source": [
        "- Use set() to eliminate duplicate elements and then use len() to check if length is 1."
      ]
    },
    {
      "cell_type": "code",
      "metadata": {
        "id": "7T3wKaubPx-q"
      },
      "source": [
        "def all_equal(lst):\r\n",
        "  return len(set(lst)) == 1"
      ],
      "execution_count": 24,
      "outputs": []
    },
    {
      "cell_type": "code",
      "metadata": {
        "colab": {
          "base_uri": "https://localhost:8080/"
        },
        "id": "YczoiOSMQINx",
        "outputId": "c54b87fa-b5dd-448f-ee99-475bd694d23c"
      },
      "source": [
        "all_equal([1, 2, 3, 4, 5, 6])"
      ],
      "execution_count": 25,
      "outputs": [
        {
          "output_type": "execute_result",
          "data": {
            "text/plain": [
              "False"
            ]
          },
          "metadata": {
            "tags": []
          },
          "execution_count": 25
        }
      ]
    },
    {
      "cell_type": "code",
      "metadata": {
        "colab": {
          "base_uri": "https://localhost:8080/"
        },
        "id": "uj4TPW-OQJpr",
        "outputId": "3ebebf2b-c487-467d-d69d-9618e6d002e4"
      },
      "source": [
        "all_equal([1, 1, 1, 1])"
      ],
      "execution_count": 26,
      "outputs": [
        {
          "output_type": "execute_result",
          "data": {
            "text/plain": [
              "True"
            ]
          },
          "metadata": {
            "tags": []
          },
          "execution_count": 26
        }
      ]
    },
    {
      "cell_type": "markdown",
      "metadata": {
        "id": "mO_yNnEPQLUh"
      },
      "source": [
        "### 8. Checks if all the values in a list are unique"
      ]
    },
    {
      "cell_type": "markdown",
      "metadata": {
        "id": "X7BiiumYQZLf"
      },
      "source": [
        "- Use set() on the given list to keep only unique occurences.\r\n",
        "- Use len() to compare the length of the unique values to the original list."
      ]
    },
    {
      "cell_type": "code",
      "metadata": {
        "id": "TGeTw1M2QKcI"
      },
      "source": [
        "def all_unique(lst):\r\n",
        "  return len(lst) == len(set(lst))"
      ],
      "execution_count": 27,
      "outputs": []
    },
    {
      "cell_type": "code",
      "metadata": {
        "id": "oU-LlFnIQceE"
      },
      "source": [
        "x = [1, 2, 3, 4, 5, 6]\r\n",
        "y = [1, 2, 2, 3, 4, 5]"
      ],
      "execution_count": 28,
      "outputs": []
    },
    {
      "cell_type": "code",
      "metadata": {
        "colab": {
          "base_uri": "https://localhost:8080/"
        },
        "id": "nVTC4F8oQdqK",
        "outputId": "4fb5c499-201a-4de3-afb5-fa3fcf3c3f50"
      },
      "source": [
        "print(all_unique(x))\r\n",
        "print(all_unique(y))"
      ],
      "execution_count": 29,
      "outputs": [
        {
          "output_type": "stream",
          "text": [
            "True\n",
            "False\n"
          ],
          "name": "stdout"
        }
      ]
    },
    {
      "cell_type": "markdown",
      "metadata": {
        "id": "kIKe2SYyQz34"
      },
      "source": [
        "### 9. Generates a list of numbers in the arithmetic progression starting with the given positive integer and up to the specified limit"
      ]
    },
    {
      "cell_type": "markdown",
      "metadata": {
        "id": "uMi7krxHQ1a3"
      },
      "source": [
        "- Use range() and list() with the appropriate start, step and end values."
      ]
    },
    {
      "cell_type": "code",
      "metadata": {
        "id": "casUrA2mQiup"
      },
      "source": [
        "def arithmetic_progression(n, lim):\r\n",
        "  return list(range(n, lim + 1, n))"
      ],
      "execution_count": 30,
      "outputs": []
    },
    {
      "cell_type": "code",
      "metadata": {
        "colab": {
          "base_uri": "https://localhost:8080/"
        },
        "id": "PLevJuIUQ35r",
        "outputId": "62202a97-7d9b-41eb-86e5-a965f249c368"
      },
      "source": [
        "arithmetic_progression(5, 50) "
      ],
      "execution_count": 32,
      "outputs": [
        {
          "output_type": "execute_result",
          "data": {
            "text/plain": [
              "[5, 10, 15, 20, 25, 30, 35, 40, 45, 50]"
            ]
          },
          "metadata": {
            "tags": []
          },
          "execution_count": 32
        }
      ]
    },
    {
      "cell_type": "markdown",
      "metadata": {
        "id": "Y3ygzPJeRHMf"
      },
      "source": [
        "### 10. Calculates the average of two or more numbers"
      ]
    },
    {
      "cell_type": "markdown",
      "metadata": {
        "id": "ecmXSyTjRKuu"
      },
      "source": [
        "- Use sum() to sum all of the args provided, divide by len()."
      ]
    },
    {
      "cell_type": "code",
      "metadata": {
        "id": "vxkszoe0Q5bh"
      },
      "source": [
        "def average(*args):\r\n",
        "  return sum(args, 0.0) / len(args)"
      ],
      "execution_count": 33,
      "outputs": []
    },
    {
      "cell_type": "code",
      "metadata": {
        "colab": {
          "base_uri": "https://localhost:8080/"
        },
        "id": "9KUuznYgRMp-",
        "outputId": "8368671c-1e4a-4493-818c-f046c2078fc7"
      },
      "source": [
        "print(average(*[1, 2, 3]))\r\n",
        "print(average(1, 2, 3))"
      ],
      "execution_count": 34,
      "outputs": [
        {
          "output_type": "stream",
          "text": [
            "2.0\n",
            "2.0\n"
          ],
          "name": "stdout"
        }
      ]
    },
    {
      "cell_type": "markdown",
      "metadata": {
        "id": "6P2fPxgMRSsF"
      },
      "source": [
        "### 11. Calculates the average of a list, after mapping each element to a value using the provided function"
      ]
    },
    {
      "cell_type": "markdown",
      "metadata": {
        "id": "uKjWbSOKRSnO"
      },
      "source": [
        "- Use map() to map each element to the value returned by fn.\r\n",
        "- Use sum() to sum all of the mapped values, divide by len(lst).\r\n",
        "- Omit the last argument, fn, to use the default identity function."
      ]
    },
    {
      "cell_type": "code",
      "metadata": {
        "id": "VxMbhyd0RREv"
      },
      "source": [
        "def average_by(lst, fn = lambda x: x):\r\n",
        "  return sum(map(fn, lst), 0.0) / len(lst)"
      ],
      "execution_count": 35,
      "outputs": []
    },
    {
      "cell_type": "code",
      "metadata": {
        "colab": {
          "base_uri": "https://localhost:8080/"
        },
        "id": "yECkpw0LRgIL",
        "outputId": "8fdf437b-352a-4fec-86be-e54a002b3047"
      },
      "source": [
        "average_by([{ 'n': 4 }, { 'n': 2 }, { 'n': 8 }, { 'n': 6 }], lambda x: x['n'])"
      ],
      "execution_count": 36,
      "outputs": [
        {
          "output_type": "execute_result",
          "data": {
            "text/plain": [
              "5.0"
            ]
          },
          "metadata": {
            "tags": []
          },
          "execution_count": 36
        }
      ]
    },
    {
      "cell_type": "markdown",
      "metadata": {
        "id": "hL2kxJwvo1YU"
      },
      "source": [
        "### 12. Returns the length of a string in bytes"
      ]
    },
    {
      "cell_type": "markdown",
      "metadata": {
        "id": "3ghxxld7o4v8"
      },
      "source": [
        "- Use str.encode('utf-8') to encode the given string and return its length."
      ]
    },
    {
      "cell_type": "code",
      "metadata": {
        "id": "a_VoxyUxo22z"
      },
      "source": [
        "def byte_size(s):\r\n",
        "  return len(s.encode('utf-8'))"
      ],
      "execution_count": 37,
      "outputs": []
    },
    {
      "cell_type": "code",
      "metadata": {
        "colab": {
          "base_uri": "https://localhost:8080/"
        },
        "id": "YdrIDizORheS",
        "outputId": "ad109eae-0b43-4509-edc7-a10c7389561b"
      },
      "source": [
        "byte_size('😀')"
      ],
      "execution_count": 38,
      "outputs": [
        {
          "output_type": "execute_result",
          "data": {
            "text/plain": [
              "4"
            ]
          },
          "metadata": {
            "tags": []
          },
          "execution_count": 38
        }
      ]
    },
    {
      "cell_type": "code",
      "metadata": {
        "colab": {
          "base_uri": "https://localhost:8080/"
        },
        "id": "7fCJPfiQo7nO",
        "outputId": "b6bda10e-4902-413f-c0f0-3445b4a349a1"
      },
      "source": [
        "byte_size('Hello World')"
      ],
      "execution_count": 39,
      "outputs": [
        {
          "output_type": "execute_result",
          "data": {
            "text/plain": [
              "11"
            ]
          },
          "metadata": {
            "tags": []
          },
          "execution_count": 39
        }
      ]
    },
    {
      "cell_type": "markdown",
      "metadata": {
        "id": "uS2kDAiHpAer"
      },
      "source": [
        "### 13. Calculates the number of ways to choose k items from n items without repetition and without order"
      ]
    },
    {
      "cell_type": "markdown",
      "metadata": {
        "id": "va7fLyS3pDxT"
      },
      "source": [
        "- Use math.comb() to calculate the binomial coefficient."
      ]
    },
    {
      "cell_type": "code",
      "metadata": {
        "colab": {
          "base_uri": "https://localhost:8080/"
        },
        "id": "PsNhWl69pKLb",
        "outputId": "cdb63a93-933e-4727-884f-8c820c7ba40f"
      },
      "source": [
        "!pip install comb"
      ],
      "execution_count": 42,
      "outputs": [
        {
          "output_type": "stream",
          "text": [
            "Collecting comb\n",
            "  Downloading https://files.pythonhosted.org/packages/b3/b3/5f4bc7623d9602205de36da311f316ac5357cded74769bd0d6545abef6a1/comb-0.9.10.tar.gz\n",
            "Collecting cliez\n",
            "  Downloading https://files.pythonhosted.org/packages/2d/d9/f3cc20dab7673dc27ea3e423f3def1674efb2bb4292bd9471b4e67a8150a/cliez-2.1.1.tar.gz\n",
            "Requirement already satisfied: termcolor in /usr/local/lib/python3.6/dist-packages (from cliez->comb) (1.1.0)\n",
            "Requirement already satisfied: future in /usr/local/lib/python3.6/dist-packages (from cliez->comb) (0.16.0)\n",
            "Requirement already satisfied: psutil in /usr/local/lib/python3.6/dist-packages (from cliez->comb) (5.4.8)\n",
            "Building wheels for collected packages: comb, cliez\n",
            "  Building wheel for comb (setup.py) ... \u001b[?25l\u001b[?25hdone\n",
            "  Created wheel for comb: filename=comb-0.9.10-cp36-none-any.whl size=8592 sha256=7272426d782f5727022582a9aaaf8e33c7dd1c7635f5926891db3de33b3d1179\n",
            "  Stored in directory: /root/.cache/pip/wheels/87/16/89/3b19caf4c84c5838c9e47ce1d86bbee1b2e531ae3d9f18a1c8\n",
            "  Building wheel for cliez (setup.py) ... \u001b[?25l\u001b[?25hdone\n",
            "  Created wheel for cliez: filename=cliez-2.1.1-cp36-none-any.whl size=16223 sha256=2ca0eff19401697058f2f459ad9dbe1b7a0c5a8a252777559d89fa9783ac4fc6\n",
            "  Stored in directory: /root/.cache/pip/wheels/9e/d8/1a/46c3ed6b52994e9fffea2889b4948e8d902b7b8804b76f1569\n",
            "Successfully built comb cliez\n",
            "Installing collected packages: cliez, comb\n",
            "Successfully installed cliez-2.1.1 comb-0.9.10\n"
          ],
          "name": "stdout"
        }
      ]
    },
    {
      "cell_type": "code",
      "metadata": {
        "id": "d-LDnBiwpDD7"
      },
      "source": [
        "import scipy\r\n",
        "from scipy.special import comb\r\n",
        "\r\n",
        "def binomial_coefficient(n, k):\r\n",
        "  return comb(n, k)"
      ],
      "execution_count": 48,
      "outputs": []
    },
    {
      "cell_type": "code",
      "metadata": {
        "colab": {
          "base_uri": "https://localhost:8080/"
        },
        "id": "Ql-w4iQao8uJ",
        "outputId": "e4c488d3-0e43-4ce6-e7e9-8b5b9ff5a204"
      },
      "source": [
        "binomial_coefficient(8, 2)"
      ],
      "execution_count": 49,
      "outputs": [
        {
          "output_type": "execute_result",
          "data": {
            "text/plain": [
              "28.0"
            ]
          },
          "metadata": {
            "tags": []
          },
          "execution_count": 49
        }
      ]
    },
    {
      "cell_type": "markdown",
      "metadata": {
        "id": "VtLayISdp8TT"
      },
      "source": [
        "### 14. Splits values into two groups, based on the result of the given filter list"
      ]
    },
    {
      "cell_type": "markdown",
      "metadata": {
        "id": "1z-S8uCbp9mr"
      },
      "source": [
        "- Use a list comprehension and zip() to add elements to groups, based on filter.\r\n",
        "- If filter has a truthy value for any element, add it to the first group, otherwise add it to the second group."
      ]
    },
    {
      "cell_type": "code",
      "metadata": {
        "id": "MRWGz6FGpb0-"
      },
      "source": [
        "def bifurcate(lst, filter):\r\n",
        "  return [\r\n",
        "    [x for x, flag in zip(lst, filter) if flag],\r\n",
        "    [x for x, flag in zip(lst, filter) if not flag]\r\n",
        "  ]"
      ],
      "execution_count": 50,
      "outputs": []
    },
    {
      "cell_type": "code",
      "metadata": {
        "colab": {
          "base_uri": "https://localhost:8080/"
        },
        "id": "TYNWs9ioqA3P",
        "outputId": "8e8247a2-22e6-41b9-d439-4a14704c19cc"
      },
      "source": [
        "bifurcate(['beep', 'boop', 'foo', 'bar'], [True, True, False, True])"
      ],
      "execution_count": 51,
      "outputs": [
        {
          "output_type": "execute_result",
          "data": {
            "text/plain": [
              "[['beep', 'boop', 'bar'], ['foo']]"
            ]
          },
          "metadata": {
            "tags": []
          },
          "execution_count": 51
        }
      ]
    },
    {
      "cell_type": "markdown",
      "metadata": {
        "id": "ygDqmmbdqC1j"
      },
      "source": [
        "### 15. Splits values into two groups, based on the result of the given filtering function"
      ]
    },
    {
      "cell_type": "markdown",
      "metadata": {
        "id": "2UIvgaBdqGac"
      },
      "source": [
        "- Use a list comprehension to add elements to groups, based on the value returned by fn for each element.\r\n",
        "- If fn returns a truthy value for any element, add it to the first group, otherwise add it to the second group."
      ]
    },
    {
      "cell_type": "code",
      "metadata": {
        "id": "38ggPjRtqCNW"
      },
      "source": [
        "def bifurcate_by(lst, fn):\r\n",
        "  return [\r\n",
        "    [x for x in lst if fn(x)],\r\n",
        "    [x for x in lst if not fn(x)]\r\n",
        "  ]"
      ],
      "execution_count": 52,
      "outputs": []
    },
    {
      "cell_type": "code",
      "metadata": {
        "colab": {
          "base_uri": "https://localhost:8080/"
        },
        "id": "lMFL6quGqJTO",
        "outputId": "a849bcac-8935-4991-d0d7-85de52a07924"
      },
      "source": [
        "bifurcate_by(['beep', 'boop', 'foo', 'bar'], lambda x: x[0] == 'b')"
      ],
      "execution_count": 53,
      "outputs": [
        {
          "output_type": "execute_result",
          "data": {
            "text/plain": [
              "[['beep', 'boop', 'bar'], ['foo']]"
            ]
          },
          "metadata": {
            "tags": []
          },
          "execution_count": 53
        }
      ]
    },
    {
      "cell_type": "markdown",
      "metadata": {
        "id": "t8Lm4z-aOnmq"
      },
      "source": [
        "### 16. Returns every nth element in a list"
      ]
    },
    {
      "cell_type": "markdown",
      "metadata": {
        "id": "ak07xsXhOpJQ"
      },
      "source": [
        "- Use slice notation to create a new list that contains every nth element of the given list."
      ]
    },
    {
      "cell_type": "code",
      "metadata": {
        "id": "vDFo95CkqKaQ"
      },
      "source": [
        "def every_nth(lst, nth):\r\n",
        "  return lst[nth - 1::nth]"
      ],
      "execution_count": 1,
      "outputs": []
    },
    {
      "cell_type": "code",
      "metadata": {
        "colab": {
          "base_uri": "https://localhost:8080/"
        },
        "id": "u03CzlKSOrVm",
        "outputId": "3bbfcf17-488a-46c5-829c-e51b7a6cbc1a"
      },
      "source": [
        "every_nth([1, 2, 3, 4, 5, 6], 2)"
      ],
      "execution_count": 2,
      "outputs": [
        {
          "output_type": "execute_result",
          "data": {
            "text/plain": [
              "[2, 4, 6]"
            ]
          },
          "metadata": {
            "tags": []
          },
          "execution_count": 2
        }
      ]
    },
    {
      "cell_type": "code",
      "metadata": {
        "colab": {
          "base_uri": "https://localhost:8080/"
        },
        "id": "ltfC5teUOs1P",
        "outputId": "f15a967b-cf42-4de9-d8d3-beaf439b08df"
      },
      "source": [
        "every_nth([1, 2, 3, 4, 5, 6, 7, 8, 9], 3)"
      ],
      "execution_count": 3,
      "outputs": [
        {
          "output_type": "execute_result",
          "data": {
            "text/plain": [
              "[3, 6, 9]"
            ]
          },
          "metadata": {
            "tags": []
          },
          "execution_count": 3
        }
      ]
    },
    {
      "cell_type": "markdown",
      "metadata": {
        "id": "RV_PhY_rO0EA"
      },
      "source": [
        "### 17. Returns factorial of any number"
      ]
    },
    {
      "cell_type": "markdown",
      "metadata": {
        "id": "GmSbFECwO4JA"
      },
      "source": [
        "- Use recursion.\r\n",
        "- If num is less than or equal to 1, return 1.\r\n",
        "- Otherwise, return the product of num and the factorial of num - 1.\r\n",
        "- Throws an exception if num is a negative or a floating point number."
      ]
    },
    {
      "cell_type": "code",
      "metadata": {
        "id": "HPSPP781Ov2j"
      },
      "source": [
        "def factorial(num):\r\n",
        "  if not ((num >= 0) and (num % 1 == 0)):\r\n",
        "    raise Exception(\"Number can't be floating point or negative.\")\r\n",
        "  return 1 if num == 0 else num * factorial(num - 1)"
      ],
      "execution_count": 4,
      "outputs": []
    },
    {
      "cell_type": "code",
      "metadata": {
        "colab": {
          "base_uri": "https://localhost:8080/"
        },
        "id": "yzNKFTatO8qC",
        "outputId": "7aca4965-985d-4518-d484-d2e5ca85afef"
      },
      "source": [
        "factorial(8)"
      ],
      "execution_count": 5,
      "outputs": [
        {
          "output_type": "execute_result",
          "data": {
            "text/plain": [
              "40320"
            ]
          },
          "metadata": {
            "tags": []
          },
          "execution_count": 5
        }
      ]
    },
    {
      "cell_type": "markdown",
      "metadata": {
        "id": "CM57TYqyPEIh"
      },
      "source": [
        "### 18. Generates a list, containing the Fibonacci sequence, up until the nth term"
      ]
    },
    {
      "cell_type": "markdown",
      "metadata": {
        "id": "YE04564JPF5p"
      },
      "source": [
        "- Starting with 0 and 1, use list.append() to add the sum of the last two numbers of the list to the end of the list, until the length of the list reaches n.\r\n",
        "- If n is less or equal to 0, return a list containing 0."
      ]
    },
    {
      "cell_type": "code",
      "metadata": {
        "id": "C4IWi1pUO-CG"
      },
      "source": [
        "def fibonacci(n):\r\n",
        "  if n <= 0:\r\n",
        "    return [0]\r\n",
        "  sequence = [0, 1]\r\n",
        "  while len(sequence) <= n:\r\n",
        "    next_value = sequence[len(sequence) - 1] + sequence[len(sequence) - 2]\r\n",
        "    sequence.append(next_value)\r\n",
        "  return sequence"
      ],
      "execution_count": 6,
      "outputs": []
    },
    {
      "cell_type": "code",
      "metadata": {
        "colab": {
          "base_uri": "https://localhost:8080/"
        },
        "id": "tkWA6p6MPLI7",
        "outputId": "e0e0a3e5-b36c-466f-b777-805dd01f84ba"
      },
      "source": [
        "fibonacci(8)"
      ],
      "execution_count": 7,
      "outputs": [
        {
          "output_type": "execute_result",
          "data": {
            "text/plain": [
              "[0, 1, 1, 2, 3, 5, 8, 13, 21]"
            ]
          },
          "metadata": {
            "tags": []
          },
          "execution_count": 7
        }
      ]
    },
    {
      "cell_type": "markdown",
      "metadata": {
        "id": "Fyqj4h6iP2cC"
      },
      "source": [
        "### 19. Creates a dictionary with the unique values of a list as keys and their frequencies as the values"
      ]
    },
    {
      "cell_type": "markdown",
      "metadata": {
        "id": "ocb_HoCnP30v"
      },
      "source": [
        "- Use collections.defaultdict() to store the frequencies of each unique element.\r\n",
        "- Use dict() to return a dictionary with the unique elements of the list as keys and their frequencies as the values."
      ]
    },
    {
      "cell_type": "code",
      "metadata": {
        "id": "dH9nLzE_PMya"
      },
      "source": [
        "from collections import defaultdict\r\n",
        "\r\n",
        "def frequencies(lst):\r\n",
        "  freq = defaultdict(int)\r\n",
        "  for val in lst:\r\n",
        "    freq[val] += 1\r\n",
        "  return dict(freq)"
      ],
      "execution_count": 8,
      "outputs": []
    },
    {
      "cell_type": "code",
      "metadata": {
        "colab": {
          "base_uri": "https://localhost:8080/"
        },
        "id": "q7Rud69cP6nt",
        "outputId": "c77db28d-ed25-44ee-bee3-6a50aefd4d25"
      },
      "source": [
        "frequencies(['a', 'b', 'a', 'c', 'a', 'a', 'b']) "
      ],
      "execution_count": 9,
      "outputs": [
        {
          "output_type": "execute_result",
          "data": {
            "text/plain": [
              "{'a': 4, 'b': 2, 'c': 1}"
            ]
          },
          "metadata": {
            "tags": []
          },
          "execution_count": 9
        }
      ]
    },
    {
      "cell_type": "markdown",
      "metadata": {
        "id": "6OpjT7FSQHJA"
      },
      "source": [
        "### 20. Retrieves the value of the nested key indicated by the given selector list from a dictionary or list"
      ]
    },
    {
      "cell_type": "markdown",
      "metadata": {
        "id": "Z9gpJlHFQIpw"
      },
      "source": [
        "- Use functools.reduce() to iterate over the selectors list.\r\n",
        "- Apply operator.getitem() for each key in selectors, retrieving the value to be used as the iteratee for the next iteration."
      ]
    },
    {
      "cell_type": "code",
      "metadata": {
        "id": "76uKUDlFP7o_"
      },
      "source": [
        "from functools import reduce \r\n",
        "from operator import getitem\r\n",
        "\r\n",
        "def get(d, selectors):\r\n",
        "  return reduce(getitem, selectors, d)"
      ],
      "execution_count": 11,
      "outputs": []
    },
    {
      "cell_type": "code",
      "metadata": {
        "colab": {
          "base_uri": "https://localhost:8080/"
        },
        "id": "gl186Y6JQNdN",
        "outputId": "32e9e0df-7443-49bc-8e7e-b6dd3164e92a"
      },
      "source": [
        "users = {\r\n",
        "  'freddy': {\r\n",
        "    'name': {\r\n",
        "      'first': 'fred',\r\n",
        "      'last': 'smith' \r\n",
        "    },\r\n",
        "    'postIds': [1, 2, 3]\r\n",
        "  }\r\n",
        "}\r\n",
        "print(get(users, ['freddy', 'name', 'last']))\r\n",
        "print(get(users, ['freddy', 'postIds', 1]))"
      ],
      "execution_count": 12,
      "outputs": [
        {
          "output_type": "stream",
          "text": [
            "smith\n",
            "2\n"
          ],
          "name": "stdout"
        }
      ]
    },
    {
      "cell_type": "markdown",
      "metadata": {
        "id": "TtyMfqWcRLvb"
      },
      "source": [
        "### 21. Checks if all the elements in values are included in lst"
      ]
    },
    {
      "cell_type": "markdown",
      "metadata": {
        "id": "dyK6elmyRO1D"
      },
      "source": [
        "- Check if every value in values is contained in lst using a for loop.\r\n",
        "- Return False if any one value is not found, True otherwise."
      ]
    },
    {
      "cell_type": "markdown",
      "metadata": {
        "id": "nfdYWHXURLlc"
      },
      "source": [
        ""
      ]
    },
    {
      "cell_type": "code",
      "metadata": {
        "id": "I3WLFFIFRLNi"
      },
      "source": [
        "def includes_all(lst, values):\r\n",
        "  for v in values:\r\n",
        "    if v not in lst:\r\n",
        "      return False\r\n",
        "  return True"
      ],
      "execution_count": 1,
      "outputs": []
    },
    {
      "cell_type": "code",
      "metadata": {
        "colab": {
          "base_uri": "https://localhost:8080/"
        },
        "id": "y9k-_hcNRTws",
        "outputId": "32f83242-6eb7-4144-f47e-cc2aa8dbc6aa"
      },
      "source": [
        "includes_all([1, 2, 3, 4], [1, 4])"
      ],
      "execution_count": 2,
      "outputs": [
        {
          "output_type": "execute_result",
          "data": {
            "text/plain": [
              "True"
            ]
          },
          "metadata": {
            "tags": []
          },
          "execution_count": 2
        }
      ]
    },
    {
      "cell_type": "code",
      "metadata": {
        "colab": {
          "base_uri": "https://localhost:8080/"
        },
        "id": "pVKxIWbdRUDD",
        "outputId": "fb9f2ea9-3ad1-4b42-c687-9249d7f9dce4"
      },
      "source": [
        "includes_all([1, 2, 3, 4], [1, 5])"
      ],
      "execution_count": 4,
      "outputs": [
        {
          "output_type": "execute_result",
          "data": {
            "text/plain": [
              "False"
            ]
          },
          "metadata": {
            "tags": []
          },
          "execution_count": 4
        }
      ]
    },
    {
      "cell_type": "markdown",
      "metadata": {
        "id": "JaytLmitRbEj"
      },
      "source": [
        "### 22. Checks if the given number falls within the given range"
      ]
    },
    {
      "cell_type": "markdown",
      "metadata": {
        "id": "uZI5twWORdje"
      },
      "source": [
        "- Use arithmetic comparison to check if the given number is in the specified range.\r\n",
        "- If the second parameter, end, is not specified, the range is considered to be from 0 to start."
      ]
    },
    {
      "cell_type": "code",
      "metadata": {
        "id": "nky0ONBeRU-h"
      },
      "source": [
        "def in_range(n, start, end = 0):\r\n",
        "  return start <= n <= end if end >= start else end <= n <= start"
      ],
      "execution_count": 5,
      "outputs": []
    },
    {
      "cell_type": "code",
      "metadata": {
        "colab": {
          "base_uri": "https://localhost:8080/"
        },
        "id": "lncg-gsLRjeW",
        "outputId": "f4fe34b6-b0e8-4e27-9cb0-53f31dc5c992"
      },
      "source": [
        "print(\r\n",
        "    in_range(3, 2, 5),\r\n",
        "    in_range(3, 4),\r\n",
        "    in_range(2, 3, 5),\r\n",
        "    in_range(3, 2)\r\n",
        "    )"
      ],
      "execution_count": 8,
      "outputs": [
        {
          "output_type": "stream",
          "text": [
            "True True False False\n"
          ],
          "name": "stdout"
        }
      ]
    },
    {
      "cell_type": "markdown",
      "metadata": {
        "id": "uRdjW-R8R1FP"
      },
      "source": [
        "### 23. Returns all the elements of a list except the last one"
      ]
    },
    {
      "cell_type": "markdown",
      "metadata": {
        "id": "gKUCe3etR4JD"
      },
      "source": [
        "- Use lst[:-1] to return all but the last element of the list."
      ]
    },
    {
      "cell_type": "code",
      "metadata": {
        "id": "cUYA1dXpRryq"
      },
      "source": [
        "def initial(lst):\r\n",
        "  return lst[:-1]"
      ],
      "execution_count": 9,
      "outputs": []
    },
    {
      "cell_type": "code",
      "metadata": {
        "colab": {
          "base_uri": "https://localhost:8080/"
        },
        "id": "-XZ_YY9RR6pj",
        "outputId": "203654a4-a183-4786-e1bc-dbf81bac23e8"
      },
      "source": [
        "initial([1, 2, 3])"
      ],
      "execution_count": 10,
      "outputs": [
        {
          "output_type": "execute_result",
          "data": {
            "text/plain": [
              "[1, 2]"
            ]
          },
          "metadata": {
            "tags": []
          },
          "execution_count": 10
        }
      ]
    },
    {
      "cell_type": "markdown",
      "metadata": {
        "id": "0ToIl7N6R-CK"
      },
      "source": [
        "### 24. Initializes a 2D list of given width and height and value"
      ]
    },
    {
      "cell_type": "markdown",
      "metadata": {
        "id": "41K4l850SBxq"
      },
      "source": [
        "- Use a list comprehension and range() to generate h rows where each is a list with length h, initialized with val.\r\n",
        "- Omit the last argument, val, to set the default value to None."
      ]
    },
    {
      "cell_type": "code",
      "metadata": {
        "id": "hZUpITL0R8Ea"
      },
      "source": [
        "def initialize_2d_list(w, h, val = None):\r\n",
        "  return [[val for x in range(w)] for y in range(h)]"
      ],
      "execution_count": 11,
      "outputs": []
    },
    {
      "cell_type": "code",
      "metadata": {
        "colab": {
          "base_uri": "https://localhost:8080/"
        },
        "id": "f_yHh8amSFp1",
        "outputId": "f45a9fd5-c3d0-4592-97f9-c28f525b1dc5"
      },
      "source": [
        "initialize_2d_list(2, 2, 0)"
      ],
      "execution_count": 12,
      "outputs": [
        {
          "output_type": "execute_result",
          "data": {
            "text/plain": [
              "[[0, 0], [0, 0]]"
            ]
          },
          "metadata": {
            "tags": []
          },
          "execution_count": 12
        }
      ]
    },
    {
      "cell_type": "code",
      "metadata": {
        "id": "m7DQTMniSG09"
      },
      "source": [
        ""
      ],
      "execution_count": null,
      "outputs": []
    }
  ]
}